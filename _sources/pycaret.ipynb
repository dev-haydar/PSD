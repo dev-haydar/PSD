{
  "cells": [
    {
      "cell_type": "markdown",
      "metadata": {},
      "source": [
        "# Pycaret"
      ]
    },
    {
      "cell_type": "markdown",
      "metadata": {},
      "source": [
        "## 1. Indentifikasi Outlier"
      ]
    },
    {
      "cell_type": "markdown",
      "metadata": {},
      "source": [
        "data understaending tambahkan identifikasi outlier"
      ]
    },
    {
      "cell_type": "code",
      "execution_count": 2,
      "metadata": {
        "colab": {
          "base_uri": "https://localhost:8080/",
          "height": 1000
        },
        "id": "rR4XVwXk5iDA",
        "outputId": "672fa01f-a85a-4657-af92-c21e6882de22"
      },
      "outputs": [
        {
          "name": "stderr",
          "output_type": "stream",
          "text": [
            "\n",
            "[notice] A new release of pip is available: 24.3.1 -> 25.2\n",
            "[notice] To update, run: C:\\Users\\Haydar\\AppData\\Local\\Microsoft\\WindowsApps\\PythonSoftwareFoundation.Python.3.11_qbz5n2kfra8p0\\python.exe -m pip install --upgrade pip\n"
          ]
        },
        {
          "name": "stdout",
          "output_type": "stream",
          "text": [
            "Requirement already satisfied: pyod in c:\\users\\haydar\\appdata\\local\\packages\\pythonsoftwarefoundation.python.3.11_qbz5n2kfra8p0\\localcache\\local-packages\\python311\\site-packages (2.0.5)\n",
            "Requirement already satisfied: joblib in c:\\users\\haydar\\appdata\\local\\packages\\pythonsoftwarefoundation.python.3.11_qbz5n2kfra8p0\\localcache\\local-packages\\python311\\site-packages (from pyod) (1.3.2)\n",
            "Requirement already satisfied: matplotlib in c:\\users\\haydar\\appdata\\local\\packages\\pythonsoftwarefoundation.python.3.11_qbz5n2kfra8p0\\localcache\\local-packages\\python311\\site-packages (from pyod) (3.7.5)\n",
            "Requirement already satisfied: numpy>=1.19 in c:\\users\\haydar\\appdata\\local\\packages\\pythonsoftwarefoundation.python.3.11_qbz5n2kfra8p0\\localcache\\local-packages\\python311\\site-packages (from pyod) (1.26.4)\n",
            "Requirement already satisfied: numba>=0.51 in c:\\users\\haydar\\appdata\\local\\packages\\pythonsoftwarefoundation.python.3.11_qbz5n2kfra8p0\\localcache\\local-packages\\python311\\site-packages (from pyod) (0.61.0)\n",
            "Requirement already satisfied: scipy>=1.5.1 in c:\\users\\haydar\\appdata\\local\\packages\\pythonsoftwarefoundation.python.3.11_qbz5n2kfra8p0\\localcache\\local-packages\\python311\\site-packages (from pyod) (1.11.4)\n",
            "Requirement already satisfied: scikit-learn>=0.22.0 in c:\\users\\haydar\\appdata\\local\\packages\\pythonsoftwarefoundation.python.3.11_qbz5n2kfra8p0\\localcache\\local-packages\\python311\\site-packages (from pyod) (1.4.2)\n",
            "Requirement already satisfied: llvmlite<0.45,>=0.44.0dev0 in c:\\users\\haydar\\appdata\\local\\packages\\pythonsoftwarefoundation.python.3.11_qbz5n2kfra8p0\\localcache\\local-packages\\python311\\site-packages (from numba>=0.51->pyod) (0.44.0)\n",
            "Requirement already satisfied: threadpoolctl>=2.0.0 in c:\\users\\haydar\\appdata\\local\\packages\\pythonsoftwarefoundation.python.3.11_qbz5n2kfra8p0\\localcache\\local-packages\\python311\\site-packages (from scikit-learn>=0.22.0->pyod) (3.5.0)\n",
            "Requirement already satisfied: contourpy>=1.0.1 in c:\\users\\haydar\\appdata\\local\\packages\\pythonsoftwarefoundation.python.3.11_qbz5n2kfra8p0\\localcache\\local-packages\\python311\\site-packages (from matplotlib->pyod) (1.3.2)\n",
            "Requirement already satisfied: cycler>=0.10 in c:\\users\\haydar\\appdata\\local\\packages\\pythonsoftwarefoundation.python.3.11_qbz5n2kfra8p0\\localcache\\local-packages\\python311\\site-packages (from matplotlib->pyod) (0.12.1)\n",
            "Requirement already satisfied: fonttools>=4.22.0 in c:\\users\\haydar\\appdata\\local\\packages\\pythonsoftwarefoundation.python.3.11_qbz5n2kfra8p0\\localcache\\local-packages\\python311\\site-packages (from matplotlib->pyod) (4.57.0)\n",
            "Requirement already satisfied: kiwisolver>=1.0.1 in c:\\users\\haydar\\appdata\\local\\packages\\pythonsoftwarefoundation.python.3.11_qbz5n2kfra8p0\\localcache\\local-packages\\python311\\site-packages (from matplotlib->pyod) (1.4.8)\n",
            "Requirement already satisfied: packaging>=20.0 in c:\\users\\haydar\\appdata\\local\\packages\\pythonsoftwarefoundation.python.3.11_qbz5n2kfra8p0\\localcache\\local-packages\\python311\\site-packages (from matplotlib->pyod) (24.2)\n",
            "Requirement already satisfied: pillow>=6.2.0 in c:\\users\\haydar\\appdata\\local\\packages\\pythonsoftwarefoundation.python.3.11_qbz5n2kfra8p0\\localcache\\local-packages\\python311\\site-packages (from matplotlib->pyod) (11.2.1)\n",
            "Requirement already satisfied: pyparsing>=2.3.1 in c:\\users\\haydar\\appdata\\local\\packages\\pythonsoftwarefoundation.python.3.11_qbz5n2kfra8p0\\localcache\\local-packages\\python311\\site-packages (from matplotlib->pyod) (3.2.3)\n",
            "Requirement already satisfied: python-dateutil>=2.7 in c:\\users\\haydar\\appdata\\local\\packages\\pythonsoftwarefoundation.python.3.11_qbz5n2kfra8p0\\localcache\\local-packages\\python311\\site-packages (from matplotlib->pyod) (2.9.0.post0)\n",
            "Requirement already satisfied: six>=1.5 in c:\\users\\haydar\\appdata\\local\\packages\\pythonsoftwarefoundation.python.3.11_qbz5n2kfra8p0\\localcache\\local-packages\\python311\\site-packages (from python-dateutil>=2.7->matplotlib->pyod) (1.17.0)\n",
            "   Id  SepalLengthCm  SepalWidthCm  PetalLengthCm  PetalWidthCm      Species\n",
            "0   1            5.1           3.5            1.4           0.2  Iris-setosa\n",
            "1   2            4.9           3.0            1.4           0.2  Iris-setosa\n",
            "2   3            4.7           3.2            1.3           0.2  Iris-setosa\n",
            "3   4            4.6           3.1            1.5           0.2  Iris-setosa\n",
            "4   5            5.0           3.6            1.4           0.2  Iris-setosa\n",
            "   Id  SepalLengthCm  SepalWidthCm  PetalLengthCm  PetalWidthCm      Species  \\\n",
            "0   1            5.1           3.5            1.4           0.2  Iris-setosa   \n",
            "1   2            4.9           3.0            1.4           0.2  Iris-setosa   \n",
            "2   3            4.7           3.2            1.3           0.2  Iris-setosa   \n",
            "3   4            4.6           3.1            1.5           0.2  Iris-setosa   \n",
            "4   5            5.0           3.6            1.4           0.2  Iris-setosa   \n",
            "\n",
            "   outlier       score  \n",
            "0        0 -295.138889  \n",
            "1        0 -339.506173  \n",
            "2        0 -123.582927  \n",
            "3        0 -153.472222  \n",
            "4        0  -67.661180  \n"
          ]
        },
        {
          "data": {
            "image/png": "[encoded data removed]",
            "text/plain": [
              "<Figure size 800x600 with 1 Axes>"
            ]
          },
          "metadata": {},
          "output_type": "display_data"
        }
      ],
      "source": [
        "# Install library PyOD (untuk ABOD)\n",
        "!pip install pyod\n",
        "\n",
        "# Import library\n",
        "import pandas as pd\n",
        "import matplotlib.pyplot as plt\n",
        "from pyod.models.abod import ABOD\n",
        "\n",
        "# 1. Baca data CSV\n",
        "df = pd.read_csv(\"Iris(1).csv\")   # ganti path jika perlu\n",
        "print(df.head())\n",
        "\n",
        "# 2. Ambil fitur numerik (buang kolom non-numerik seperti 'Species')\n",
        "X = df.drop(columns=['Species', 'Id'])\n",
        "\n",
        "# 3. Jalankan ABOD\n",
        "clf = ABOD(contamination=0.05)  # 5% diasumsikan outlier\n",
        "clf.fit(X)\n",
        "\n",
        "# 4. Prediksi outlier\n",
        "df['outlier'] = clf.predict(X)   # 0 = normal, 1 = outlier\n",
        "df['score'] = clf.decision_function(X)  # skor outlier\n",
        "\n",
        "print(df.head())\n",
        "\n",
        "# 5. Visualisasi (contoh: SepalLengthCm vs SepalWidthCm)\n",
        "plt.figure(figsize=(8,6))\n",
        "plt.scatter(df['SepalLengthCm'], df['SepalWidthCm'],\n",
        "            c=df['outlier'], cmap='coolwarm', edgecolor='k')\n",
        "plt.xlabel(\"SepalLengthCm\")\n",
        "plt.ylabel(\"SepalWidthCm\")\n",
        "plt.title(\"Deteksi Outlier dengan ABOD (Iris Dataset)\")\n",
        "plt.show()"
      ]
    },
    {
      "cell_type": "code",
      "execution_count": 3,
      "metadata": {
        "colab": {
          "base_uri": "https://localhost:8080/"
        },
        "id": "9wfU16aaGsRE",
        "outputId": "de9fa2c9-53d9-4a25-f301-0e22583aa6fc"
      },
      "outputs": [
        {
          "name": "stdout",
          "output_type": "stream",
          "text": [
            "Python 3.11.9\n"
          ]
        }
      ],
      "source": [
        "!python3 --version"
      ]
    },
    {
      "cell_type": "markdown",
      "metadata": {},
      "source": [
        "Install Pycaret untuk melakukan preprocessing data iris"
      ]
    },
    {
      "cell_type": "code",
      "execution_count": 2,
      "metadata": {
        "colab": {
          "base_uri": "https://localhost:8080/"
        },
        "id": "F0EjajoZGydP",
        "outputId": "d8def6f2-91d1-4556-9d6e-8a29f44e9846"
      },
      "outputs": [
        {
          "name": "stdout",
          "output_type": "stream",
          "text": [
            "Collecting pycaret\n",
            "  Downloading pycaret-3.3.2-py3-none-any.whl.metadata (17 kB)\n",
            "Requirement already satisfied: ipython>=5.5.0 in /workspaces/PSD/.venv/lib/python3.11/site-packages (from pycaret) (9.5.0)\n",
            "Collecting ipywidgets>=7.6.5 (from pycaret)\n",
            "  Downloading ipywidgets-8.1.7-py3-none-any.whl.metadata (2.4 kB)\n",
            "Collecting tqdm>=4.62.0 (from pycaret)\n",
            "  Downloading tqdm-4.67.1-py3-none-any.whl.metadata (57 kB)\n",
            "Collecting numpy<1.27,>=1.21 (from pycaret)\n",
            "  Downloading numpy-1.26.4-cp311-cp311-manylinux_2_17_x86_64.manylinux2014_x86_64.whl.metadata (61 kB)\n",
            "Collecting pandas<2.2.0 (from pycaret)\n",
            "  Downloading pandas-2.1.4-cp311-cp311-manylinux_2_17_x86_64.manylinux2014_x86_64.whl.metadata (18 kB)\n",
            "Collecting jinja2>=3 (from pycaret)\n",
            "  Downloading jinja2-3.1.6-py3-none-any.whl.metadata (2.9 kB)\n",
            "Collecting scipy<=1.11.4,>=1.6.1 (from pycaret)\n",
            "  Downloading scipy-1.11.4-cp311-cp311-manylinux_2_17_x86_64.manylinux2014_x86_64.whl.metadata (60 kB)\n",
            "Collecting joblib<1.4,>=1.2.0 (from pycaret)\n",
            "  Downloading joblib-1.3.2-py3-none-any.whl.metadata (5.4 kB)\n",
            "Collecting scikit-learn>1.4.0 (from pycaret)\n",
            "  Downloading scikit_learn-1.7.2-cp311-cp311-manylinux2014_x86_64.manylinux_2_17_x86_64.whl.metadata (11 kB)\n",
            "Collecting pyod>=1.1.3 (from pycaret)\n",
            "  Downloading pyod-2.0.5-py3-none-any.whl.metadata (46 kB)\n",
            "Collecting imbalanced-learn>=0.12.0 (from pycaret)\n",
            "  Downloading imbalanced_learn-0.14.0-py3-none-any.whl.metadata (8.8 kB)\n",
            "Collecting category-encoders>=2.4.0 (from pycaret)\n",
            "  Downloading category_encoders-2.8.1-py3-none-any.whl.metadata (7.9 kB)\n",
            "Collecting lightgbm>=3.0.0 (from pycaret)\n",
            "  Downloading lightgbm-4.6.0-py3-none-manylinux_2_28_x86_64.whl.metadata (17 kB)\n",
            "Collecting numba>=0.55.0 (from pycaret)\n",
            "  Downloading numba-0.61.2-cp311-cp311-manylinux2014_x86_64.manylinux_2_17_x86_64.whl.metadata (2.8 kB)\n",
            "Collecting requests>=2.27.1 (from pycaret)\n",
            "  Downloading requests-2.32.5-py3-none-any.whl.metadata (4.9 kB)\n",
            "Requirement already satisfied: psutil>=5.9.0 in /workspaces/PSD/.venv/lib/python3.11/site-packages (from pycaret) (7.0.0)\n",
            "Collecting markupsafe>=2.0.1 (from pycaret)\n",
            "  Downloading MarkupSafe-3.0.2-cp311-cp311-manylinux_2_17_x86_64.manylinux2014_x86_64.whl.metadata (4.0 kB)\n",
            "Collecting importlib-metadata>=4.12.0 (from pycaret)\n",
            "  Using cached importlib_metadata-8.7.0-py3-none-any.whl.metadata (4.8 kB)\n",
            "Collecting nbformat>=4.2.0 (from pycaret)\n",
            "  Downloading nbformat-5.10.4-py3-none-any.whl.metadata (3.6 kB)\n",
            "Collecting cloudpickle (from pycaret)\n",
            "  Downloading cloudpickle-3.1.1-py3-none-any.whl.metadata (7.1 kB)\n",
            "Collecting deprecation>=2.1.0 (from pycaret)\n",
            "  Downloading deprecation-2.1.0-py2.py3-none-any.whl.metadata (4.6 kB)\n",
            "Collecting xxhash (from pycaret)\n",
            "  Downloading xxhash-3.5.0-cp311-cp311-manylinux_2_17_x86_64.manylinux2014_x86_64.whl.metadata (12 kB)\n",
            "Collecting matplotlib<3.8.0 (from pycaret)\n",
            "  Downloading matplotlib-3.7.5-cp311-cp311-manylinux_2_17_x86_64.manylinux2014_x86_64.whl.metadata (5.7 kB)\n",
            "Collecting scikit-plot>=0.3.7 (from pycaret)\n",
            "  Downloading scikit_plot-0.3.7-py3-none-any.whl.metadata (7.1 kB)\n",
            "Collecting yellowbrick>=1.4 (from pycaret)\n",
            "  Downloading yellowbrick-1.5-py3-none-any.whl.metadata (7.7 kB)\n",
            "Collecting plotly>=5.14.0 (from pycaret)\n",
            "  Downloading plotly-6.3.0-py3-none-any.whl.metadata (8.5 kB)\n",
            "Collecting kaleido>=0.2.1 (from pycaret)\n",
            "  Downloading kaleido-1.1.0-py3-none-any.whl.metadata (5.6 kB)\n",
            "Collecting schemdraw==0.15 (from pycaret)\n",
            "  Downloading schemdraw-0.15-py3-none-any.whl.metadata (2.2 kB)\n",
            "Collecting plotly-resampler>=0.8.3.1 (from pycaret)\n",
            "  Downloading plotly_resampler-0.11.0-py3-none-any.whl.metadata (13 kB)\n",
            "Collecting statsmodels>=0.12.1 (from pycaret)\n",
            "  Downloading statsmodels-0.14.5-cp311-cp311-manylinux2014_x86_64.manylinux_2_17_x86_64.manylinux_2_28_x86_64.whl.metadata (9.5 kB)\n",
            "Collecting sktime==0.26.0 (from pycaret)\n",
            "  Downloading sktime-0.26.0-py3-none-any.whl.metadata (29 kB)\n",
            "Collecting tbats>=1.1.3 (from pycaret)\n",
            "  Downloading tbats-1.1.3-py3-none-any.whl.metadata (3.8 kB)\n",
            "Collecting pmdarima>=2.0.4 (from pycaret)\n",
            "  Downloading pmdarima-2.0.4-cp311-cp311-manylinux_2_17_x86_64.manylinux2014_x86_64.manylinux_2_28_x86_64.whl.metadata (7.8 kB)\n",
            "Collecting wurlitzer (from pycaret)\n",
            "  Downloading wurlitzer-3.1.1-py3-none-any.whl.metadata (2.5 kB)\n",
            "Requirement already satisfied: packaging in /workspaces/PSD/.venv/lib/python3.11/site-packages (from sktime==0.26.0->pycaret) (25.0)\n",
            "Collecting scikit-base<0.8.0 (from sktime==0.26.0->pycaret)\n",
            "  Downloading scikit_base-0.7.8-py3-none-any.whl.metadata (8.8 kB)\n",
            "Collecting scikit-learn>1.4.0 (from pycaret)\n",
            "  Downloading scikit_learn-1.4.2-cp311-cp311-manylinux_2_17_x86_64.manylinux2014_x86_64.whl.metadata (11 kB)\n",
            "Collecting contourpy>=1.0.1 (from matplotlib<3.8.0->pycaret)\n",
            "  Downloading contourpy-1.3.3-cp311-cp311-manylinux_2_27_x86_64.manylinux_2_28_x86_64.whl.metadata (5.5 kB)\n",
            "Collecting cycler>=0.10 (from matplotlib<3.8.0->pycaret)\n",
            "  Downloading cycler-0.12.1-py3-none-any.whl.metadata (3.8 kB)\n",
            "Collecting fonttools>=4.22.0 (from matplotlib<3.8.0->pycaret)\n",
            "  Downloading fonttools-4.59.2-cp311-cp311-manylinux2014_x86_64.manylinux_2_17_x86_64.whl.metadata (109 kB)\n",
            "Collecting kiwisolver>=1.0.1 (from matplotlib<3.8.0->pycaret)\n",
            "  Downloading kiwisolver-1.4.9-cp311-cp311-manylinux2014_x86_64.manylinux_2_17_x86_64.whl.metadata (6.3 kB)\n",
            "Collecting pillow>=6.2.0 (from matplotlib<3.8.0->pycaret)\n",
            "  Downloading pillow-11.3.0-cp311-cp311-manylinux_2_27_x86_64.manylinux_2_28_x86_64.whl.metadata (9.0 kB)\n",
            "Collecting pyparsing>=2.3.1 (from matplotlib<3.8.0->pycaret)\n",
            "  Downloading pyparsing-3.2.4-py3-none-any.whl.metadata (5.0 kB)\n",
            "Requirement already satisfied: python-dateutil>=2.7 in /workspaces/PSD/.venv/lib/python3.11/site-packages (from matplotlib<3.8.0->pycaret) (2.9.0.post0)\n",
            "Collecting pytz>=2020.1 (from pandas<2.2.0->pycaret)\n",
            "  Downloading pytz-2025.2-py2.py3-none-any.whl.metadata (22 kB)\n",
            "Collecting tzdata>=2022.1 (from pandas<2.2.0->pycaret)\n",
            "  Downloading tzdata-2025.2-py2.py3-none-any.whl.metadata (1.4 kB)\n",
            "Collecting threadpoolctl>=2.0.0 (from scikit-learn>1.4.0->pycaret)\n",
            "  Downloading threadpoolctl-3.6.0-py3-none-any.whl.metadata (13 kB)\n",
            "Collecting patsy>=0.5.1 (from category-encoders>=2.4.0->pycaret)\n",
            "  Downloading patsy-1.0.1-py2.py3-none-any.whl.metadata (3.3 kB)\n",
            "INFO: pip is looking at multiple versions of category-encoders to determine which version is compatible with other requirements. This could take a while.\n",
            "Collecting category-encoders>=2.4.0 (from pycaret)\n",
            "  Downloading category_encoders-2.8.0-py3-none-any.whl.metadata (7.9 kB)\n",
            "  Downloading category_encoders-2.7.0-py3-none-any.whl.metadata (7.9 kB)\n",
            "Collecting zipp>=3.20 (from importlib-metadata>=4.12.0->pycaret)\n",
            "  Using cached zipp-3.23.0-py3-none-any.whl.metadata (3.6 kB)\n",
            "Requirement already satisfied: decorator in /workspaces/PSD/.venv/lib/python3.11/site-packages (from ipython>=5.5.0->pycaret) (5.2.1)\n",
            "Requirement already satisfied: ipython-pygments-lexers in /workspaces/PSD/.venv/lib/python3.11/site-packages (from ipython>=5.5.0->pycaret) (1.1.1)\n",
            "Requirement already satisfied: jedi>=0.16 in /workspaces/PSD/.venv/lib/python3.11/site-packages (from ipython>=5.5.0->pycaret) (0.19.2)\n",
            "Requirement already satisfied: matplotlib-inline in /workspaces/PSD/.venv/lib/python3.11/site-packages (from ipython>=5.5.0->pycaret) (0.1.7)\n",
            "Requirement already satisfied: pexpect>4.3 in /workspaces/PSD/.venv/lib/python3.11/site-packages (from ipython>=5.5.0->pycaret) (4.9.0)\n",
            "Requirement already satisfied: prompt_toolkit<3.1.0,>=3.0.41 in /workspaces/PSD/.venv/lib/python3.11/site-packages (from ipython>=5.5.0->pycaret) (3.0.52)\n",
            "Requirement already satisfied: pygments>=2.4.0 in /workspaces/PSD/.venv/lib/python3.11/site-packages (from ipython>=5.5.0->pycaret) (2.19.2)\n",
            "Requirement already satisfied: stack_data in /workspaces/PSD/.venv/lib/python3.11/site-packages (from ipython>=5.5.0->pycaret) (0.6.3)\n",
            "Requirement already satisfied: traitlets>=5.13.0 in /workspaces/PSD/.venv/lib/python3.11/site-packages (from ipython>=5.5.0->pycaret) (5.14.3)\n",
            "Requirement already satisfied: typing_extensions>=4.6 in /workspaces/PSD/.venv/lib/python3.11/site-packages (from ipython>=5.5.0->pycaret) (4.15.0)\n",
            "Requirement already satisfied: wcwidth in /workspaces/PSD/.venv/lib/python3.11/site-packages (from prompt_toolkit<3.1.0,>=3.0.41->ipython>=5.5.0->pycaret) (0.2.13)\n",
            "Requirement already satisfied: comm>=0.1.3 in /workspaces/PSD/.venv/lib/python3.11/site-packages (from ipywidgets>=7.6.5->pycaret) (0.2.3)\n",
            "Collecting widgetsnbextension~=4.0.14 (from ipywidgets>=7.6.5->pycaret)\n",
            "  Downloading widgetsnbextension-4.0.14-py3-none-any.whl.metadata (1.6 kB)\n",
            "Collecting jupyterlab_widgets~=3.0.15 (from ipywidgets>=7.6.5->pycaret)\n",
            "  Downloading jupyterlab_widgets-3.0.15-py3-none-any.whl.metadata (20 kB)\n",
            "Requirement already satisfied: parso<0.9.0,>=0.8.4 in /workspaces/PSD/.venv/lib/python3.11/site-packages (from jedi>=0.16->ipython>=5.5.0->pycaret) (0.8.5)\n",
            "Collecting choreographer>=1.0.10 (from kaleido>=0.2.1->pycaret)\n",
            "  Downloading choreographer-1.0.10-py3-none-any.whl.metadata (5.6 kB)\n",
            "Collecting logistro>=1.0.8 (from kaleido>=0.2.1->pycaret)\n",
            "  Downloading logistro-1.1.0-py3-none-any.whl.metadata (2.6 kB)\n",
            "Collecting orjson>=3.10.15 (from kaleido>=0.2.1->pycaret)\n",
            "  Downloading orjson-3.11.3-cp311-cp311-manylinux_2_17_x86_64.manylinux2014_x86_64.whl.metadata (41 kB)\n",
            "Collecting pytest-timeout>=2.4.0 (from kaleido>=0.2.1->pycaret)\n",
            "  Downloading pytest_timeout-2.4.0-py3-none-any.whl.metadata (20 kB)\n",
            "Collecting simplejson>=3.19.3 (from choreographer>=1.0.10->kaleido>=0.2.1->pycaret)\n",
            "  Downloading simplejson-3.20.1-cp311-cp311-manylinux_2_5_x86_64.manylinux1_x86_64.manylinux_2_17_x86_64.manylinux2014_x86_64.whl.metadata (3.2 kB)\n",
            "Collecting fastjsonschema>=2.15 (from nbformat>=4.2.0->pycaret)\n",
            "  Downloading fastjsonschema-2.21.2-py3-none-any.whl.metadata (2.3 kB)\n",
            "Collecting jsonschema>=2.6 (from nbformat>=4.2.0->pycaret)\n",
            "  Downloading jsonschema-4.25.1-py3-none-any.whl.metadata (7.6 kB)\n",
            "Requirement already satisfied: jupyter-core!=5.0.*,>=4.12 in /workspaces/PSD/.venv/lib/python3.11/site-packages (from nbformat>=4.2.0->pycaret) (5.8.1)\n",
            "Collecting attrs>=22.2.0 (from jsonschema>=2.6->nbformat>=4.2.0->pycaret)\n",
            "  Downloading attrs-25.3.0-py3-none-any.whl.metadata (10 kB)\n",
            "Collecting jsonschema-specifications>=2023.03.6 (from jsonschema>=2.6->nbformat>=4.2.0->pycaret)\n",
            "  Downloading jsonschema_specifications-2025.9.1-py3-none-any.whl.metadata (2.9 kB)\n",
            "Collecting referencing>=0.28.4 (from jsonschema>=2.6->nbformat>=4.2.0->pycaret)\n",
            "  Downloading referencing-0.36.2-py3-none-any.whl.metadata (2.8 kB)\n",
            "Collecting rpds-py>=0.7.1 (from jsonschema>=2.6->nbformat>=4.2.0->pycaret)\n",
            "  Downloading rpds_py-0.27.1-cp311-cp311-manylinux_2_17_x86_64.manylinux2014_x86_64.whl.metadata (4.2 kB)\n",
            "Requirement already satisfied: platformdirs>=2.5 in /workspaces/PSD/.venv/lib/python3.11/site-packages (from jupyter-core!=5.0.*,>=4.12->nbformat>=4.2.0->pycaret) (4.4.0)\n",
            "Collecting llvmlite<0.45,>=0.44.0dev0 (from numba>=0.55.0->pycaret)\n",
            "  Downloading llvmlite-0.44.0-cp311-cp311-manylinux_2_17_x86_64.manylinux2014_x86_64.whl.metadata (4.8 kB)\n",
            "Requirement already satisfied: ptyprocess>=0.5 in /workspaces/PSD/.venv/lib/python3.11/site-packages (from pexpect>4.3->ipython>=5.5.0->pycaret) (0.7.0)\n",
            "Collecting narwhals>=1.15.1 (from plotly>=5.14.0->pycaret)\n",
            "  Downloading narwhals-2.5.0-py3-none-any.whl.metadata (11 kB)\n",
            "Collecting dash>=2.11.0 (from plotly-resampler>=0.8.3.1->pycaret)\n",
            "  Downloading dash-3.2.0-py3-none-any.whl.metadata (10 kB)\n",
            "Collecting tsdownsample>=0.1.3 (from plotly-resampler>=0.8.3.1->pycaret)\n",
            "  Downloading tsdownsample-0.1.4.1-cp311-cp311-manylinux_2_17_x86_64.manylinux2014_x86_64.whl.metadata (8.0 kB)\n",
            "Collecting Flask<3.2,>=1.0.4 (from dash>=2.11.0->plotly-resampler>=0.8.3.1->pycaret)\n",
            "  Downloading flask-3.1.2-py3-none-any.whl.metadata (3.2 kB)\n",
            "Collecting Werkzeug<3.2 (from dash>=2.11.0->plotly-resampler>=0.8.3.1->pycaret)\n",
            "  Downloading werkzeug-3.1.3-py3-none-any.whl.metadata (3.7 kB)\n",
            "Collecting retrying (from dash>=2.11.0->plotly-resampler>=0.8.3.1->pycaret)\n",
            "  Downloading retrying-1.4.2-py3-none-any.whl.metadata (5.5 kB)\n",
            "Requirement already satisfied: nest-asyncio in /workspaces/PSD/.venv/lib/python3.11/site-packages (from dash>=2.11.0->plotly-resampler>=0.8.3.1->pycaret) (1.6.0)\n",
            "Requirement already satisfied: setuptools in /workspaces/PSD/.venv/lib/python3.11/site-packages (from dash>=2.11.0->plotly-resampler>=0.8.3.1->pycaret) (65.5.0)\n",
            "Collecting blinker>=1.9.0 (from Flask<3.2,>=1.0.4->dash>=2.11.0->plotly-resampler>=0.8.3.1->pycaret)\n",
            "  Downloading blinker-1.9.0-py3-none-any.whl.metadata (1.6 kB)\n",
            "Collecting click>=8.1.3 (from Flask<3.2,>=1.0.4->dash>=2.11.0->plotly-resampler>=0.8.3.1->pycaret)\n",
            "  Using cached click-8.2.1-py3-none-any.whl.metadata (2.5 kB)\n",
            "Collecting itsdangerous>=2.2.0 (from Flask<3.2,>=1.0.4->dash>=2.11.0->plotly-resampler>=0.8.3.1->pycaret)\n",
            "  Downloading itsdangerous-2.2.0-py3-none-any.whl.metadata (1.9 kB)\n",
            "Collecting Cython!=0.29.18,!=0.29.31,>=0.29 (from pmdarima>=2.0.4->pycaret)\n",
            "  Downloading cython-3.1.3-cp311-cp311-manylinux2014_x86_64.manylinux_2_17_x86_64.manylinux_2_28_x86_64.whl.metadata (4.7 kB)\n",
            "Collecting urllib3 (from pmdarima>=2.0.4->pycaret)\n",
            "  Downloading urllib3-2.5.0-py3-none-any.whl.metadata (6.5 kB)\n",
            "Collecting pytest>=7.0.0 (from pytest-timeout>=2.4.0->kaleido>=0.2.1->pycaret)\n",
            "  Downloading pytest-8.4.2-py3-none-any.whl.metadata (7.7 kB)\n",
            "Collecting iniconfig>=1 (from pytest>=7.0.0->pytest-timeout>=2.4.0->kaleido>=0.2.1->pycaret)\n",
            "  Downloading iniconfig-2.1.0-py3-none-any.whl.metadata (2.7 kB)\n",
            "Collecting pluggy<2,>=1.5 (from pytest>=7.0.0->pytest-timeout>=2.4.0->kaleido>=0.2.1->pycaret)\n",
            "  Downloading pluggy-1.6.0-py3-none-any.whl.metadata (4.8 kB)\n",
            "Requirement already satisfied: six>=1.5 in /workspaces/PSD/.venv/lib/python3.11/site-packages (from python-dateutil>=2.7->matplotlib<3.8.0->pycaret) (1.17.0)\n",
            "Collecting charset_normalizer<4,>=2 (from requests>=2.27.1->pycaret)\n",
            "  Downloading charset_normalizer-3.4.3-cp311-cp311-manylinux2014_x86_64.manylinux_2_17_x86_64.manylinux_2_28_x86_64.whl.metadata (36 kB)\n",
            "Collecting idna<4,>=2.5 (from requests>=2.27.1->pycaret)\n",
            "  Downloading idna-3.10-py3-none-any.whl.metadata (10 kB)\n",
            "Collecting certifi>=2017.4.17 (from requests>=2.27.1->pycaret)\n",
            "  Downloading certifi-2025.8.3-py3-none-any.whl.metadata (2.4 kB)\n",
            "Requirement already satisfied: executing>=1.2.0 in /workspaces/PSD/.venv/lib/python3.11/site-packages (from stack_data->ipython>=5.5.0->pycaret) (2.2.1)\n",
            "Requirement already satisfied: asttokens>=2.1.0 in /workspaces/PSD/.venv/lib/python3.11/site-packages (from stack_data->ipython>=5.5.0->pycaret) (3.0.0)\n",
            "Requirement already satisfied: pure-eval in /workspaces/PSD/.venv/lib/python3.11/site-packages (from stack_data->ipython>=5.5.0->pycaret) (0.2.3)\n",
            "Downloading pycaret-3.3.2-py3-none-any.whl (486 kB)\n",
            "Downloading schemdraw-0.15-py3-none-any.whl (106 kB)\n",
            "Downloading sktime-0.26.0-py3-none-any.whl (21.8 MB)\n",
            "\u001b[2K   \u001b[90m━━━━━━━━━━━━━━━━━━━━━━━━━━━━━━━━━━━━━━━━\u001b[0m \u001b[32m21.8/21.8 MB\u001b[0m \u001b[31m53.5 MB/s\u001b[0m  \u001b[33m0:00:00\u001b[0m6m0:00:01\u001b[0m\n",
            "\u001b[?25hDownloading joblib-1.3.2-py3-none-any.whl (302 kB)\n",
            "Downloading matplotlib-3.7.5-cp311-cp311-manylinux_2_17_x86_64.manylinux2014_x86_64.whl (11.6 MB)\n",
            "\u001b[2K   \u001b[90m━━━━━━━━━━━━━━━━━━━━━━━━━━━━━━━━━━━━━━━━\u001b[0m \u001b[32m11.6/11.6 MB\u001b[0m \u001b[31m53.9 MB/s\u001b[0m  \u001b[33m0:00:00\u001b[0m6m0:00:01\u001b[0m\n",
            "\u001b[?25hDownloading numpy-1.26.4-cp311-cp311-manylinux_2_17_x86_64.manylinux2014_x86_64.whl (18.3 MB)\n",
            "\u001b[2K   \u001b[90m━━━━━━━━━━━━━━━━━━━━━━━━━━━━━━━━━━━━━━━━\u001b[0m \u001b[32m18.3/18.3 MB\u001b[0m \u001b[31m53.0 MB/s\u001b[0m  \u001b[33m0:00:00\u001b[0m6m0:00:01\u001b[0m\n",
            "\u001b[?25hDownloading pandas-2.1.4-cp311-cp311-manylinux_2_17_x86_64.manylinux2014_x86_64.whl (12.2 MB)\n",
            "\u001b[2K   \u001b[90m━━━━━━━━━━━━━━━━━━━━━━━━━━━━━━━━━━━━━━━━\u001b[0m \u001b[32m12.2/12.2 MB\u001b[0m \u001b[31m53.2 MB/s\u001b[0m  \u001b[33m0:00:00\u001b[0m6m0:00:01\u001b[0m\n",
            "\u001b[?25hDownloading scikit_base-0.7.8-py3-none-any.whl (130 kB)\n",
            "Downloading scikit_learn-1.4.2-cp311-cp311-manylinux_2_17_x86_64.manylinux2014_x86_64.whl (12.1 MB)\n",
            "\u001b[2K   \u001b[90m━━━━━━━━━━━━━━━━━━━━━━━━━━━━━━━━━━━━━━━━\u001b[0m \u001b[32m12.1/12.1 MB\u001b[0m \u001b[31m52.5 MB/s\u001b[0m  \u001b[33m0:00:00\u001b[0m6m0:00:01\u001b[0m\n",
            "\u001b[?25hDownloading scipy-1.11.4-cp311-cp311-manylinux_2_17_x86_64.manylinux2014_x86_64.whl (36.4 MB)\n",
            "\u001b[2K   \u001b[90m━━━━━━━━━━━━━━━━━━━━━━━━━━━━━━━━━━━━━━━━\u001b[0m \u001b[32m36.4/36.4 MB\u001b[0m \u001b[31m52.3 MB/s\u001b[0m  \u001b[33m0:00:00\u001b[0m6m0:00:01\u001b[0m\n",
            "\u001b[?25hDownloading category_encoders-2.7.0-py3-none-any.whl (85 kB)\n",
            "Downloading contourpy-1.3.3-cp311-cp311-manylinux_2_27_x86_64.manylinux_2_28_x86_64.whl (355 kB)\n",
            "Downloading cycler-0.12.1-py3-none-any.whl (8.3 kB)\n",
            "Downloading deprecation-2.1.0-py2.py3-none-any.whl (11 kB)\n",
            "Downloading fonttools-4.59.2-cp311-cp311-manylinux2014_x86_64.manylinux_2_17_x86_64.whl (5.0 MB)\n",
            "\u001b[2K   \u001b[90m━━━━━━━━━━━━━━━━━━━━━━━━━━━━━━━━━━━━━━━━\u001b[0m \u001b[32m5.0/5.0 MB\u001b[0m \u001b[31m47.6 MB/s\u001b[0m  \u001b[33m0:00:00\u001b[0m\n",
            "\u001b[?25hDownloading imbalanced_learn-0.14.0-py3-none-any.whl (239 kB)\n",
            "Downloading threadpoolctl-3.6.0-py3-none-any.whl (18 kB)\n",
            "Using cached importlib_metadata-8.7.0-py3-none-any.whl (27 kB)\n",
            "Downloading ipywidgets-8.1.7-py3-none-any.whl (139 kB)\n",
            "Downloading jupyterlab_widgets-3.0.15-py3-none-any.whl (216 kB)\n",
            "Downloading widgetsnbextension-4.0.14-py3-none-any.whl (2.2 MB)\n",
            "\u001b[2K   \u001b[90m━━━━━━━━━━━━━━━━━━━━━━━━━━━━━━━━━━━━━━━━\u001b[0m \u001b[32m2.2/2.2 MB\u001b[0m \u001b[31m47.3 MB/s\u001b[0m  \u001b[33m0:00:00\u001b[0m\n",
            "\u001b[?25hDownloading jinja2-3.1.6-py3-none-any.whl (134 kB)\n",
            "Downloading kaleido-1.1.0-py3-none-any.whl (66 kB)\n",
            "Downloading choreographer-1.0.10-py3-none-any.whl (51 kB)\n",
            "Downloading kiwisolver-1.4.9-cp311-cp311-manylinux2014_x86_64.manylinux_2_17_x86_64.whl (1.4 MB)\n",
            "\u001b[2K   \u001b[90m━━━━━━━━━━━━━━━━━━━━━━━━━━━━━━━━━━━━━━━━\u001b[0m \u001b[32m1.4/1.4 MB\u001b[0m \u001b[31m37.5 MB/s\u001b[0m  \u001b[33m0:00:00\u001b[0m\n",
            "\u001b[?25hDownloading lightgbm-4.6.0-py3-none-manylinux_2_28_x86_64.whl (3.6 MB)\n",
            "\u001b[2K   \u001b[90m━━━━━━━━━━━━━━━━━━━━━━━━━━━━━━━━━━━━━━━━\u001b[0m \u001b[32m3.6/3.6 MB\u001b[0m \u001b[31m40.9 MB/s\u001b[0m  \u001b[33m0:00:00\u001b[0m\n",
            "\u001b[?25hDownloading logistro-1.1.0-py3-none-any.whl (7.9 kB)\n",
            "Downloading MarkupSafe-3.0.2-cp311-cp311-manylinux_2_17_x86_64.manylinux2014_x86_64.whl (23 kB)\n",
            "Downloading nbformat-5.10.4-py3-none-any.whl (78 kB)\n",
            "Downloading fastjsonschema-2.21.2-py3-none-any.whl (24 kB)\n",
            "Downloading jsonschema-4.25.1-py3-none-any.whl (90 kB)\n",
            "Downloading attrs-25.3.0-py3-none-any.whl (63 kB)\n",
            "Downloading jsonschema_specifications-2025.9.1-py3-none-any.whl (18 kB)\n",
            "Downloading numba-0.61.2-cp311-cp311-manylinux2014_x86_64.manylinux_2_17_x86_64.whl (3.8 MB)\n",
            "\u001b[2K   \u001b[90m━━━━━━━━━━━━━━━━━━━━━━━━━━━━━━━━━━━━━━━━\u001b[0m \u001b[32m3.8/3.8 MB\u001b[0m \u001b[31m64.4 MB/s\u001b[0m  \u001b[33m0:00:00\u001b[0m\n",
            "\u001b[?25hDownloading llvmlite-0.44.0-cp311-cp311-manylinux_2_17_x86_64.manylinux2014_x86_64.whl (42.4 MB)\n",
            "\u001b[2K   \u001b[90m━━━━━━━━━━━━━━━━━━━━━━━━━━━━━━━━━━━━━━━━\u001b[0m \u001b[32m42.4/42.4 MB\u001b[0m \u001b[31m53.4 MB/s\u001b[0m  \u001b[33m0:00:00\u001b[0m6m0:00:01\u001b[0m\n",
            "\u001b[?25hDownloading orjson-3.11.3-cp311-cp311-manylinux_2_17_x86_64.manylinux2014_x86_64.whl (132 kB)\n",
            "Downloading patsy-1.0.1-py2.py3-none-any.whl (232 kB)\n",
            "Downloading pillow-11.3.0-cp311-cp311-manylinux_2_27_x86_64.manylinux_2_28_x86_64.whl (6.6 MB)\n",
            "\u001b[2K   \u001b[90m━━━━━━━━━━━━━━━━━━━━━━━━━━━━━━━━━━━━━━━━\u001b[0m \u001b[32m6.6/6.6 MB\u001b[0m \u001b[31m46.6 MB/s\u001b[0m  \u001b[33m0:00:00\u001b[0m\n",
            "\u001b[?25hDownloading plotly-6.3.0-py3-none-any.whl (9.8 MB)\n",
            "\u001b[2K   \u001b[90m━━━━━━━━━━━━━━━━━━━━━━━━━━━━━━━━━━━━━━━━\u001b[0m \u001b[32m9.8/9.8 MB\u001b[0m \u001b[31m51.0 MB/s\u001b[0m  \u001b[33m0:00:00\u001b[0m\n",
            "\u001b[?25hDownloading narwhals-2.5.0-py3-none-any.whl (407 kB)\n",
            "Downloading plotly_resampler-0.11.0-py3-none-any.whl (82 kB)\n",
            "Downloading dash-3.2.0-py3-none-any.whl (7.9 MB)\n",
            "\u001b[2K   \u001b[90m━━━━━━━━━━━━━━━━━━━━━━━━━━━━━━━━━━━━━━━━\u001b[0m \u001b[32m7.9/7.9 MB\u001b[0m \u001b[31m59.4 MB/s\u001b[0m  \u001b[33m0:00:00\u001b[0m\n",
            "\u001b[?25hDownloading flask-3.1.2-py3-none-any.whl (103 kB)\n",
            "Downloading werkzeug-3.1.3-py3-none-any.whl (224 kB)\n",
            "Downloading blinker-1.9.0-py3-none-any.whl (8.5 kB)\n",
            "Using cached click-8.2.1-py3-none-any.whl (102 kB)\n",
            "Downloading itsdangerous-2.2.0-py3-none-any.whl (16 kB)\n",
            "Downloading pmdarima-2.0.4-cp311-cp311-manylinux_2_17_x86_64.manylinux2014_x86_64.manylinux_2_28_x86_64.whl (2.2 MB)\n",
            "\u001b[2K   \u001b[90m━━━━━━━━━━━━━━━━━━━━━━━━━━━━━━━━━━━━━━━━\u001b[0m \u001b[32m2.2/2.2 MB\u001b[0m \u001b[31m46.1 MB/s\u001b[0m  \u001b[33m0:00:00\u001b[0m\n",
            "\u001b[?25hDownloading cython-3.1.3-cp311-cp311-manylinux2014_x86_64.manylinux_2_17_x86_64.manylinux_2_28_x86_64.whl (3.3 MB)\n",
            "\u001b[2K   \u001b[90m━━━━━━━━━━━━━━━━━━━━━━━━━━━━━━━━━━━━━━━━\u001b[0m \u001b[32m3.3/3.3 MB\u001b[0m \u001b[31m47.1 MB/s\u001b[0m  \u001b[33m0:00:00\u001b[0m\n",
            "\u001b[?25hDownloading pyod-2.0.5-py3-none-any.whl (200 kB)\n",
            "Downloading pyparsing-3.2.4-py3-none-any.whl (113 kB)\n",
            "Downloading pytest_timeout-2.4.0-py3-none-any.whl (14 kB)\n",
            "Downloading pytest-8.4.2-py3-none-any.whl (365 kB)\n",
            "Downloading pluggy-1.6.0-py3-none-any.whl (20 kB)\n",
            "Downloading iniconfig-2.1.0-py3-none-any.whl (6.0 kB)\n",
            "Downloading pytz-2025.2-py2.py3-none-any.whl (509 kB)\n",
            "Downloading referencing-0.36.2-py3-none-any.whl (26 kB)\n",
            "Downloading requests-2.32.5-py3-none-any.whl (64 kB)\n",
            "Downloading charset_normalizer-3.4.3-cp311-cp311-manylinux2014_x86_64.manylinux_2_17_x86_64.manylinux_2_28_x86_64.whl (150 kB)\n",
            "Downloading idna-3.10-py3-none-any.whl (70 kB)\n",
            "Downloading urllib3-2.5.0-py3-none-any.whl (129 kB)\n",
            "Downloading certifi-2025.8.3-py3-none-any.whl (161 kB)\n",
            "Downloading rpds_py-0.27.1-cp311-cp311-manylinux_2_17_x86_64.manylinux2014_x86_64.whl (384 kB)\n",
            "Downloading scikit_plot-0.3.7-py3-none-any.whl (33 kB)\n",
            "Downloading simplejson-3.20.1-cp311-cp311-manylinux_2_5_x86_64.manylinux1_x86_64.manylinux_2_17_x86_64.manylinux2014_x86_64.whl (144 kB)\n",
            "Downloading statsmodels-0.14.5-cp311-cp311-manylinux2014_x86_64.manylinux_2_17_x86_64.manylinux_2_28_x86_64.whl (10.5 MB)\n",
            "\u001b[2K   \u001b[90m━━━━━━━━━━━━━━━━━━━━━━━━━━━━━━━━━━━━━━━━\u001b[0m \u001b[32m10.5/10.5 MB\u001b[0m \u001b[31m58.2 MB/s\u001b[0m  \u001b[33m0:00:00\u001b[0m\n",
            "\u001b[?25hDownloading tbats-1.1.3-py3-none-any.whl (44 kB)\n",
            "Downloading tqdm-4.67.1-py3-none-any.whl (78 kB)\n",
            "Downloading tsdownsample-0.1.4.1-cp311-cp311-manylinux_2_17_x86_64.manylinux2014_x86_64.whl (1.3 MB)\n",
            "\u001b[2K   \u001b[90m━━━━━━━━━━━━━━━━━━━━━━━━━━━━━━━━━━━━━━━━\u001b[0m \u001b[32m1.3/1.3 MB\u001b[0m \u001b[31m35.7 MB/s\u001b[0m  \u001b[33m0:00:00\u001b[0m\n",
            "\u001b[?25hDownloading tzdata-2025.2-py2.py3-none-any.whl (347 kB)\n",
            "Downloading yellowbrick-1.5-py3-none-any.whl (282 kB)\n",
            "Using cached zipp-3.23.0-py3-none-any.whl (10 kB)\n",
            "Downloading cloudpickle-3.1.1-py3-none-any.whl (20 kB)\n",
            "Downloading retrying-1.4.2-py3-none-any.whl (10 kB)\n",
            "Downloading wurlitzer-3.1.1-py3-none-any.whl (8.6 kB)\n",
            "Downloading xxhash-3.5.0-cp311-cp311-manylinux_2_17_x86_64.manylinux2014_x86_64.whl (194 kB)\n",
            "Installing collected packages: pytz, fastjsonschema, zipp, xxhash, wurlitzer, widgetsnbextension, urllib3, tzdata, tqdm, threadpoolctl, simplejson, scikit-base, schemdraw, rpds-py, retrying, pyparsing, pluggy, pillow, orjson, numpy, narwhals, markupsafe, logistro, llvmlite, kiwisolver, jupyterlab_widgets, joblib, itsdangerous, iniconfig, idna, fonttools, deprecation, Cython, cycler, cloudpickle, click, charset_normalizer, certifi, blinker, attrs, Werkzeug, tsdownsample, scipy, requests, referencing, pytest, plotly, patsy, pandas, numba, jinja2, importlib-metadata, contourpy, choreographer, statsmodels, scikit-learn, pytest-timeout, matplotlib, lightgbm, jsonschema-specifications, ipywidgets, Flask, yellowbrick, sktime, scikit-plot, pyod, pmdarima, kaleido, jsonschema, imbalanced-learn, dash, category-encoders, tbats, plotly-resampler, nbformat, pycaret\n",
            "\u001b[2K   \u001b[90m━━━━━━━━━━━━━━━━━━━━━━━━━━━━━━━━━━━━━━━━\u001b[0m \u001b[32m76/76\u001b[0m [pycaret][pycaret][plotly-resampler]]\n",
            "\u001b[1A\u001b[2KSuccessfully installed Cython-3.1.3 Flask-3.1.2 Werkzeug-3.1.3 attrs-25.3.0 blinker-1.9.0 category-encoders-2.7.0 certifi-2025.8.3 charset_normalizer-3.4.3 choreographer-1.0.10 click-8.2.1 cloudpickle-3.1.1 contourpy-1.3.3 cycler-0.12.1 dash-3.2.0 deprecation-2.1.0 fastjsonschema-2.21.2 fonttools-4.59.2 idna-3.10 imbalanced-learn-0.14.0 importlib-metadata-8.7.0 iniconfig-2.1.0 ipywidgets-8.1.7 itsdangerous-2.2.0 jinja2-3.1.6 joblib-1.3.2 jsonschema-4.25.1 jsonschema-specifications-2025.9.1 jupyterlab_widgets-3.0.15 kaleido-1.1.0 kiwisolver-1.4.9 lightgbm-4.6.0 llvmlite-0.44.0 logistro-1.1.0 markupsafe-3.0.2 matplotlib-3.7.5 narwhals-2.5.0 nbformat-5.10.4 numba-0.61.2 numpy-1.26.4 orjson-3.11.3 pandas-2.1.4 patsy-1.0.1 pillow-11.3.0 plotly-6.3.0 plotly-resampler-0.11.0 pluggy-1.6.0 pmdarima-2.0.4 pycaret-3.3.2 pyod-2.0.5 pyparsing-3.2.4 pytest-8.4.2 pytest-timeout-2.4.0 pytz-2025.2 referencing-0.36.2 requests-2.32.5 retrying-1.4.2 rpds-py-0.27.1 schemdraw-0.15 scikit-base-0.7.8 scikit-learn-1.4.2 scikit-plot-0.3.7 scipy-1.11.4 simplejson-3.20.1 sktime-0.26.0 statsmodels-0.14.5 tbats-1.1.3 threadpoolctl-3.6.0 tqdm-4.67.1 tsdownsample-0.1.4.1 tzdata-2025.2 urllib3-2.5.0 widgetsnbextension-4.0.14 wurlitzer-3.1.1 xxhash-3.5.0 yellowbrick-1.5 zipp-3.23.0\n",
            "Note: you may need to restart the kernel to use updated packages.\n"
          ]
        }
      ],
      "source": [
        "pip install pycaret"
      ]
    },
    {
      "cell_type": "markdown",
      "metadata": {},
      "source": [
        "Cek versi Python dan Pycarte agar tidak terjadi kesalahan saat melakukan preprocessing"
      ]
    },
    {
      "cell_type": "code",
      "execution_count": 3,
      "metadata": {
        "colab": {
          "base_uri": "https://localhost:8080/"
        },
        "id": "ZIdVrFoxG7CM",
        "outputId": "33f0938c-fe65-42c0-dbee-7bf9a54c83ae"
      },
      "outputs": [
        {
          "name": "stdout",
          "output_type": "stream",
          "text": [
            "Python version: 3.11.13 (main, Jun  4 2025, 08:57:30) [GCC 13.3.0]\n",
            "PyCaret version: 3.3.2\n"
          ]
        }
      ],
      "source": [
        "import sys\n",
        "import pycaret\n",
        "\n",
        "print(\"Python version:\", sys.version)\n",
        "print(\"PyCaret version:\", pycaret.__version__)\n"
      ]
    },
    {
      "cell_type": "markdown",
      "metadata": {},
      "source": [
        "## 2. tambahkan menu preposesing isinya penghapusan outlier yang mengunakan 3 metode"
      ]
    },
    {
      "cell_type": "markdown",
      "metadata": {},
      "source": [
        "Import Pandas untuk membaca data sebelum di preprocessing"
      ]
    },
    {
      "cell_type": "code",
      "execution_count": 5,
      "metadata": {
        "colab": {
          "base_uri": "https://localhost:8080/",
          "height": 384
        },
        "id": "yaTGysOCHf2R",
        "outputId": "021e16c9-320f-4f80-f62c-b3642a9f303c"
      },
      "outputs": [
        {
          "name": "stdout",
          "output_type": "stream",
          "text": [
            "Shape: (150, 6)\n",
            "   Id  SepalLengthCm  SepalWidthCm  PetalLengthCm  PetalWidthCm      Species\n",
            "0   1            5.1           3.5            1.4           0.2  Iris-setosa\n",
            "1   2            4.9           3.0            1.4           0.2  Iris-setosa\n",
            "2   3            4.7           3.2            1.3           0.2  Iris-setosa\n",
            "3   4            4.6           3.1            1.5           0.2  Iris-setosa\n",
            "4   5            5.0           3.6            1.4           0.2  Iris-setosa\n"
          ]
        }
      ],
      "source": [
        "import pandas as pd\n",
        "from pycaret.datasets import get_data\n",
        "\n",
        "df = pd.read_csv(\"Iris(1).csv\")\n",
        "print(\"Shape:\", df.shape)\n",
        "print(df.head())"
      ]
    },
    {
      "cell_type": "markdown",
      "metadata": {},
      "source": [
        "Preprocessing menggunakan pycaret dengan 3 metode KNN, Isolation Forest, LOF"
      ]
    },
    {
      "cell_type": "code",
      "execution_count": 6,
      "metadata": {},
      "outputs": [
        {
          "name": "stderr",
          "output_type": "stream",
          "text": [
            "                                                         \r"
          ]
        },
        {
          "name": "stdout",
          "output_type": "stream",
          "text": [
            "🔹 Jumlah data asli: 150\n",
            "🔹 Setelah KNN: 142\n",
            "🔹 Setelah Isolation Forest: 142\n",
            "🔹 Setelah LOF: 142\n"
          ]
        }
      ],
      "source": [
        "from pycaret.anomaly import setup, create_model, assign_model\n",
        "import pandas as pd\n",
        "\n",
        "# Load dataset\n",
        "df = pd.read_csv('Iris(1).csv')\n",
        "\n",
        "# Ambil hanya fitur numerik\n",
        "df_num = df.drop(columns=['Id', 'Species'])\n",
        "\n",
        "# Setup pycaret anomaly detection (versi 3.x)\n",
        "s = setup(\n",
        "    data=df_num, \n",
        "    session_id=123,\n",
        "    verbose=False,        # nonaktifkan output berlebihan\n",
        "    profile=False,        # nonaktifkan profiling otomatis\n",
        "    html=False            # nonaktifkan tampilan HTML (jika di notebook)\n",
        ")\n",
        "\n",
        "# --- 1️⃣ KNN Outlier Detection ---\n",
        "knn = create_model('knn')\n",
        "knn_results = assign_model(knn)\n",
        "df_knn_clean = df[knn_results['Anomaly'] == 0]\n",
        "\n",
        "# --- 2️⃣ Isolation Forest Outlier Detection ---\n",
        "iforest = create_model('iforest')\n",
        "iforest_results = assign_model(iforest)\n",
        "df_iforest_clean = df[iforest_results['Anomaly'] == 0]\n",
        "\n",
        "# --- 3️⃣ LOF Outlier Detection ---\n",
        "lof = create_model('lof')\n",
        "lof_results = assign_model(lof)\n",
        "df_lof_clean = df[lof_results['Anomaly'] == 0]\n",
        "\n",
        "print(\"🔹 Jumlah data asli:\", len(df))\n",
        "print(\"🔹 Setelah KNN:\", len(df_knn_clean))\n",
        "print(\"🔹 Setelah Isolation Forest:\", len(df_iforest_clean))\n",
        "print(\"🔹 Setelah LOF:\", len(df_lof_clean))\n"
      ]
    },
    {
      "cell_type": "markdown",
      "metadata": {},
      "source": [
        "visualisasikan data yang sudah di preprocessing dan tampilkan setiap hasil output tiap metode"
      ]
    },
    {
      "cell_type": "code",
      "execution_count": 2,
      "metadata": {},
      "outputs": [
        {
          "name": "stdout",
          "output_type": "stream",
          "text": [
            "Python: 3.11.13 (main, Jun  4 2025, 08:57:30) [GCC 13.3.0]\n",
            "PyCaret: 3.3.2\n"
          ]
        }
      ],
      "source": [
        "import sys, pycaret\n",
        "print(\"Python:\", sys.version)\n",
        "print(\"PyCaret:\", pycaret.__version__)"
      ]
    },
    {
      "cell_type": "code",
      "execution_count": 4,
      "metadata": {},
      "outputs": [
        {
          "name": "stdout",
          "output_type": "stream",
          "text": [
            "SepalLengthCm    float64\n",
            "SepalWidthCm     float64\n",
            "PetalLengthCm    float64\n",
            "PetalWidthCm     float64\n",
            "dtype: object\n"
          ]
        },
        {
          "data": {
            "text/html": [
              "<div>\n",
              "<style scoped>\n",
              "    .dataframe tbody tr th:only-of-type {\n",
              "        vertical-align: middle;\n",
              "    }\n",
              "\n",
              "    .dataframe tbody tr th {\n",
              "        vertical-align: top;\n",
              "    }\n",
              "\n",
              "    .dataframe thead th {\n",
              "        text-align: right;\n",
              "    }\n",
              "</style>\n",
              "<table border=\"1\" class=\"dataframe\">\n",
              "  <thead>\n",
              "    <tr style=\"text-align: right;\">\n",
              "      <th></th>\n",
              "      <th>SepalLengthCm</th>\n",
              "      <th>SepalWidthCm</th>\n",
              "      <th>PetalLengthCm</th>\n",
              "      <th>PetalWidthCm</th>\n",
              "    </tr>\n",
              "  </thead>\n",
              "  <tbody>\n",
              "    <tr>\n",
              "      <th>0</th>\n",
              "      <td>5.1</td>\n",
              "      <td>3.5</td>\n",
              "      <td>1.4</td>\n",
              "      <td>0.2</td>\n",
              "    </tr>\n",
              "    <tr>\n",
              "      <th>1</th>\n",
              "      <td>4.9</td>\n",
              "      <td>3.0</td>\n",
              "      <td>1.4</td>\n",
              "      <td>0.2</td>\n",
              "    </tr>\n",
              "    <tr>\n",
              "      <th>2</th>\n",
              "      <td>4.7</td>\n",
              "      <td>3.2</td>\n",
              "      <td>1.3</td>\n",
              "      <td>0.2</td>\n",
              "    </tr>\n",
              "    <tr>\n",
              "      <th>3</th>\n",
              "      <td>4.6</td>\n",
              "      <td>3.1</td>\n",
              "      <td>1.5</td>\n",
              "      <td>0.2</td>\n",
              "    </tr>\n",
              "    <tr>\n",
              "      <th>4</th>\n",
              "      <td>5.0</td>\n",
              "      <td>3.6</td>\n",
              "      <td>1.4</td>\n",
              "      <td>0.2</td>\n",
              "    </tr>\n",
              "  </tbody>\n",
              "</table>\n",
              "</div>"
            ],
            "text/plain": [
              "   SepalLengthCm  SepalWidthCm  PetalLengthCm  PetalWidthCm\n",
              "0            5.1           3.5            1.4           0.2\n",
              "1            4.9           3.0            1.4           0.2\n",
              "2            4.7           3.2            1.3           0.2\n",
              "3            4.6           3.1            1.5           0.2\n",
              "4            5.0           3.6            1.4           0.2"
            ]
          },
          "execution_count": 4,
          "metadata": {},
          "output_type": "execute_result"
        }
      ],
      "source": [
        "import pandas as pd\n",
        "\n",
        "iris = pd.read_csv(\"Iris(1).csv\")\n",
        "iris = iris.drop(columns=[\"Id\"], errors=\"ignore\")  # drop kolom Id kalau ada\n",
        "\n",
        "# Ambil hanya kolom numerik\n",
        "iris_num = iris[['SepalLengthCm','SepalWidthCm','PetalLengthCm','PetalWidthCm']]\n",
        "\n",
        "print(iris_num.dtypes)\n",
        "iris_num.head()"
      ]
    },
    {
      "cell_type": "code",
      "execution_count": 5,
      "metadata": {},
      "outputs": [
        {
          "data": {
            "text/html": [
              "<style type=\"text/css\">\n",
              "#T_51ab3_row4_col1 {\n",
              "  background-color: lightgreen;\n",
              "}\n",
              "</style>\n",
              "<table id=\"T_51ab3\">\n",
              "  <thead>\n",
              "    <tr>\n",
              "      <th class=\"blank level0\" >&nbsp;</th>\n",
              "      <th id=\"T_51ab3_level0_col0\" class=\"col_heading level0 col0\" >Description</th>\n",
              "      <th id=\"T_51ab3_level0_col1\" class=\"col_heading level0 col1\" >Value</th>\n",
              "    </tr>\n",
              "  </thead>\n",
              "  <tbody>\n",
              "    <tr>\n",
              "      <th id=\"T_51ab3_level0_row0\" class=\"row_heading level0 row0\" >0</th>\n",
              "      <td id=\"T_51ab3_row0_col0\" class=\"data row0 col0\" >Session id</td>\n",
              "      <td id=\"T_51ab3_row0_col1\" class=\"data row0 col1\" >123</td>\n",
              "    </tr>\n",
              "    <tr>\n",
              "      <th id=\"T_51ab3_level0_row1\" class=\"row_heading level0 row1\" >1</th>\n",
              "      <td id=\"T_51ab3_row1_col0\" class=\"data row1 col0\" >Original data shape</td>\n",
              "      <td id=\"T_51ab3_row1_col1\" class=\"data row1 col1\" >(150, 4)</td>\n",
              "    </tr>\n",
              "    <tr>\n",
              "      <th id=\"T_51ab3_level0_row2\" class=\"row_heading level0 row2\" >2</th>\n",
              "      <td id=\"T_51ab3_row2_col0\" class=\"data row2 col0\" >Transformed data shape</td>\n",
              "      <td id=\"T_51ab3_row2_col1\" class=\"data row2 col1\" >(150, 4)</td>\n",
              "    </tr>\n",
              "    <tr>\n",
              "      <th id=\"T_51ab3_level0_row3\" class=\"row_heading level0 row3\" >3</th>\n",
              "      <td id=\"T_51ab3_row3_col0\" class=\"data row3 col0\" >Numeric features</td>\n",
              "      <td id=\"T_51ab3_row3_col1\" class=\"data row3 col1\" >4</td>\n",
              "    </tr>\n",
              "    <tr>\n",
              "      <th id=\"T_51ab3_level0_row4\" class=\"row_heading level0 row4\" >4</th>\n",
              "      <td id=\"T_51ab3_row4_col0\" class=\"data row4 col0\" >Preprocess</td>\n",
              "      <td id=\"T_51ab3_row4_col1\" class=\"data row4 col1\" >True</td>\n",
              "    </tr>\n",
              "    <tr>\n",
              "      <th id=\"T_51ab3_level0_row5\" class=\"row_heading level0 row5\" >5</th>\n",
              "      <td id=\"T_51ab3_row5_col0\" class=\"data row5 col0\" >Imputation type</td>\n",
              "      <td id=\"T_51ab3_row5_col1\" class=\"data row5 col1\" >simple</td>\n",
              "    </tr>\n",
              "    <tr>\n",
              "      <th id=\"T_51ab3_level0_row6\" class=\"row_heading level0 row6\" >6</th>\n",
              "      <td id=\"T_51ab3_row6_col0\" class=\"data row6 col0\" >Numeric imputation</td>\n",
              "      <td id=\"T_51ab3_row6_col1\" class=\"data row6 col1\" >mean</td>\n",
              "    </tr>\n",
              "    <tr>\n",
              "      <th id=\"T_51ab3_level0_row7\" class=\"row_heading level0 row7\" >7</th>\n",
              "      <td id=\"T_51ab3_row7_col0\" class=\"data row7 col0\" >Categorical imputation</td>\n",
              "      <td id=\"T_51ab3_row7_col1\" class=\"data row7 col1\" >mode</td>\n",
              "    </tr>\n",
              "    <tr>\n",
              "      <th id=\"T_51ab3_level0_row8\" class=\"row_heading level0 row8\" >8</th>\n",
              "      <td id=\"T_51ab3_row8_col0\" class=\"data row8 col0\" >CPU Jobs</td>\n",
              "      <td id=\"T_51ab3_row8_col1\" class=\"data row8 col1\" >-1</td>\n",
              "    </tr>\n",
              "    <tr>\n",
              "      <th id=\"T_51ab3_level0_row9\" class=\"row_heading level0 row9\" >9</th>\n",
              "      <td id=\"T_51ab3_row9_col0\" class=\"data row9 col0\" >Use GPU</td>\n",
              "      <td id=\"T_51ab3_row9_col1\" class=\"data row9 col1\" >False</td>\n",
              "    </tr>\n",
              "    <tr>\n",
              "      <th id=\"T_51ab3_level0_row10\" class=\"row_heading level0 row10\" >10</th>\n",
              "      <td id=\"T_51ab3_row10_col0\" class=\"data row10 col0\" >Log Experiment</td>\n",
              "      <td id=\"T_51ab3_row10_col1\" class=\"data row10 col1\" >False</td>\n",
              "    </tr>\n",
              "    <tr>\n",
              "      <th id=\"T_51ab3_level0_row11\" class=\"row_heading level0 row11\" >11</th>\n",
              "      <td id=\"T_51ab3_row11_col0\" class=\"data row11 col0\" >Experiment Name</td>\n",
              "      <td id=\"T_51ab3_row11_col1\" class=\"data row11 col1\" >anomaly-default-name</td>\n",
              "    </tr>\n",
              "    <tr>\n",
              "      <th id=\"T_51ab3_level0_row12\" class=\"row_heading level0 row12\" >12</th>\n",
              "      <td id=\"T_51ab3_row12_col0\" class=\"data row12 col0\" >USI</td>\n",
              "      <td id=\"T_51ab3_row12_col1\" class=\"data row12 col1\" >0163</td>\n",
              "    </tr>\n",
              "  </tbody>\n",
              "</table>\n"
            ],
            "text/plain": [
              "<pandas.io.formats.style.Styler at 0x717fa5bc7f50>"
            ]
          },
          "metadata": {},
          "output_type": "display_data"
        }
      ],
      "source": [
        "from pycaret.anomaly import setup\n",
        "\n",
        "exp = setup(\n",
        "    data=iris_num,\n",
        "    session_id=123\n",
        ")"
      ]
    },
    {
      "cell_type": "code",
      "execution_count": 6,
      "metadata": {},
      "outputs": [
        {
          "data": {
            "text/html": [],
            "text/plain": [
              "<IPython.core.display.HTML object>"
            ]
          },
          "metadata": {},
          "output_type": "display_data"
        },
        {
          "data": {
            "text/html": [],
            "text/plain": [
              "<IPython.core.display.HTML object>"
            ]
          },
          "metadata": {},
          "output_type": "display_data"
        },
        {
          "data": {
            "text/html": [],
            "text/plain": [
              "<IPython.core.display.HTML object>"
            ]
          },
          "metadata": {},
          "output_type": "display_data"
        },
        {
          "data": {
            "text/html": [],
            "text/plain": [
              "<IPython.core.display.HTML object>"
            ]
          },
          "metadata": {},
          "output_type": "display_data"
        },
        {
          "data": {
            "text/html": [],
            "text/plain": [
              "<IPython.core.display.HTML object>"
            ]
          },
          "metadata": {},
          "output_type": "display_data"
        },
        {
          "data": {
            "text/html": [],
            "text/plain": [
              "<IPython.core.display.HTML object>"
            ]
          },
          "metadata": {},
          "output_type": "display_data"
        },
        {
          "data": {
            "text/html": [],
            "text/plain": [
              "<IPython.core.display.HTML object>"
            ]
          },
          "metadata": {},
          "output_type": "display_data"
        },
        {
          "data": {
            "text/html": [],
            "text/plain": [
              "<IPython.core.display.HTML object>"
            ]
          },
          "metadata": {},
          "output_type": "display_data"
        },
        {
          "data": {
            "text/html": [],
            "text/plain": [
              "<IPython.core.display.HTML object>"
            ]
          },
          "metadata": {},
          "output_type": "display_data"
        },
        {
          "name": "stdout",
          "output_type": "stream",
          "text": [
            "Isolation Forest outliers: 8\n",
            "KNN outliers: 8\n",
            "LOF outliers: 8\n"
          ]
        }
      ],
      "source": [
        "from pycaret.anomaly import create_model, assign_model\n",
        "\n",
        "# Model 1: Isolation Forest\n",
        "iforest = create_model('iforest')\n",
        "out_iforest = assign_model(iforest)\n",
        "\n",
        "# Model 2: KNN\n",
        "knn = create_model('knn')\n",
        "out_knn = assign_model(knn)\n",
        "\n",
        "# Model 3: LOF\n",
        "lof = create_model('lof')\n",
        "out_lof = assign_model(lof)\n",
        "\n",
        "print(\"Isolation Forest outliers:\", out_iforest['Anomaly'].sum())\n",
        "print(\"KNN outliers:\", out_knn['Anomaly'].sum())\n",
        "print(\"LOF outliers:\", out_lof['Anomaly'].sum())"
      ]
    },
    {
      "cell_type": "code",
      "execution_count": 9,
      "metadata": {},
      "outputs": [
        {
          "name": "stderr",
          "output_type": "stream",
          "text": [
            "                                                         \r"
          ]
        },
        {
          "data": {
            "application/vnd.plotly.v1+json": {
              "config": {
                "plotlyServerURL": "https://plot.ly"
              },
              "data": [
                {
                  "hovertemplate": "color=Normal<br>symbol=circle<br>SepalLengthCm=%{x}<br>SepalWidthCm=%{y}<br>PetalLengthCm=%{z}<extra></extra>",
                  "legendgroup": "Normal, circle",
                  "marker": {
                    "color": "#636efa",
                    "opacity": 0.7,
                    "size": 6,
                    "symbol": "circle"
                  },
                  "mode": "markers",
                  "name": "Normal, circle",
                  "scene": "scene",
                  "showlegend": true,
                  "type": "scatter3d",
                  "x": {
                    "bdata": "MzOjQM3MnEBmZpZAMzOTQAAAoEDNzKxAMzOTQAAAoEDNzIxAzcycQM3MrECamZlAmpmZQJqZiUCamblAZma2QM3MrEAzM6NAZma2QDMzo0DNzKxAMzOjQDMzk0AzM6NAmpmZQAAAoEAAAKBAZmamQGZmpkBmZpZAmpmZQM3MrEBmZqZAAACwQM3MnEAAAKBAAACwQM3MnEDNzIxAMzOjQAAAoEDNzIxAAACgQDMzo0CamZlAMzOjQDMzk0CamalAAACgQAAA4EDNzMxAzczcQAAAsEAAANBAZma2QJqZyUAzM9NAZmamQAAAoEDNzLxAAADAQDMzw0AzM7NAZmbWQDMzs0CamblAZmbGQDMzs0DNzLxAMzPDQJqZyUAzM8NAzczMQDMz00CamdlAZmbWQAAAwEBmZrZAAACwQAAAsECamblAAADAQM3MrEAAAMBAZmbWQJqZyUAzM7NAAACwQAAAsEAzM8NAmpm5QAAAoEAzM7NAZma2QGZmtkBmZsZAZma2QJqZyUCamblAMzPjQJqZyUAAANBAMzPzQJqZ6UBmZtZAAADQQM3MzECamdlAZma2QJqZuUDNzMxAAADQQAAAwEDNzNxAMzOzQGZm9kCamclAZmbWQGZm5kBmZsZAMzPDQM3MzEBmZuZAzczsQM3MzECamclAMzPDQGZm9kCamclAzczMQAAAwEDNzNxAZmbWQM3M3ECamblAmpnZQGZm1kBmZtZAmpnJQAAA0EBmZsZAzcy8QA==",
                    "dtype": "f4"
                  },
                  "y": {
                    "bdata": "AABgQAAAQEDNzExAZmZGQGZmZkCamXlAmplZQJqZWUCamTlAZmZGQM3MbECamVlAAABAQAAAQEAAAIBAzcyMQJqZeUAAAGBAMzNzQDMzc0CamVlAzcxsQGZmZkAzM1NAmplZQAAAQECamVlAAABgQJqZWUDNzExAZmZGQJqZWUAzM4NAZmaGQGZmRkDNzExAAABgQGZmRkAAAEBAmplZQAAAYEDNzExAAABgQDMzc0AAAEBAMzNzQM3MTEDNzGxAMzNTQM3MTEDNzExAZmZGQDMzE0AzMzNAMzMzQDMzU0CamTlAzcwsQAAAAEAAAEBAzcwMQJqZOUCamTlAZmZGQAAAQEDNzCxAzcwMQAAAIEDNzExAMzMzQAAAIEAzMzNAmpk5QAAAQEAzMzNAAABAQJqZOUBmZiZAmpkZQJqZGUDNzCxAzcwsQAAAQECamVlAZmZGQDMzE0AAAEBAAAAgQGZmJkAAAEBAZmYmQDMzE0DNzCxAAABAQJqZOUCamTlAMzMzQDMzU0DNzCxAAABAQJqZOUAAAEBAAABAQJqZOUAAACBAzcxMQM3MLEAAAEBAAAAgQDMzM0DNzExAAABAQM3MDEDNzExAMzMzQDMzM0DNzCxAMzNTQM3MTEAzMzNAAABAQDMzM0AAAEBAMzMzQDMzM0AzMzNAZmYmQAAAQECamVlAZmZGQAAAQEBmZkZAZmZGQGZmRkDNzCxAzcxMQDMzU0AAAEBAAAAgQAAAQECamVlAAABAQA==",
                    "dtype": "f4"
                  },
                  "z": {
                    "bdata": "MzOzPzMzsz9mZqY/AADAPzMzsz+amdk/MzOzPwAAwD8zM7M/AADAPwAAwD/NzMw/MzOzP83MjD+amZk/AADAP2Zmpj8zM7M/mpnZPwAAwD+amdk/AADAPwAAgD+amdk/MzPzP83MzD/NzMw/AADAPzMzsz/NzMw/zczMPwAAwD8AAMA/MzOzPwAAwD+amZk/ZmamPwAAwD9mZqY/AADAP2Zmpj9mZqY/zczMPzMz8z8zM7M/zczMPzMzsz8AAMA/MzOzP2ZmlkAAAJBAzcycQAAAgEAzM5NAAACQQGZmlkAzM5NAmpl5QAAAYEBmZoZAAACAQGZmlkBmZmZAzcyMQAAAkEAzM4NAAACQQJqZeUCamZlAAACAQM3MnEBmZpZAmpmJQM3MjECamZlAAACgQAAAkEAAAGBAMzNzQM3MbECamXlAMzOjQAAAkEAAAJBAZmaWQM3MjEAzM4NAAACAQM3MjEAzM5NAAACAQDMzU0BmZoZAZmaGQGZmhkCamYlAMzODQAAAwEAzM6NAzcy8QDMzs0CamblAMzPTQJqZyUCamblAMzOjQJqZqUAAALBAAACgQDMzo0CamalAAACwQAAAoEBmZrZAzcycQGZm1kDNzJxAZma2QAAAwECamZlAzcycQDMzs0CamblAMzPDQDMzs0AzM6NAMzOzQDMzw0AzM7NAAACwQJqZmUDNzKxAMzOzQDMzo0AzM6NAzcy8QGZmtkBmZqZAAACgQGZmpkDNzKxAMzOjQA==",
                    "dtype": "f4"
                  }
                },
                {
                  "hovertemplate": "color=Outlier<br>symbol=x<br>SepalLengthCm=%{x}<br>SepalWidthCm=%{y}<br>PetalLengthCm=%{z}<extra></extra>",
                  "legendgroup": "Outlier, x",
                  "marker": {
                    "color": "#EF553B",
                    "opacity": 0.7,
                    "size": 6,
                    "symbol": "diamond"
                  },
                  "mode": "markers",
                  "name": "Outlier, x",
                  "scene": "scene",
                  "showlegend": true,
                  "type": "scatter3d",
                  "x": {
                    "bdata": "AACQQM3MnEAzM6NAzcycQGZm5kBmZvZAZmb2QM3M/EA=",
                    "dtype": "f4"
                  },
                  "y": {
                    "bdata": "MzMTQJqZGUAAACBAAAAgQGZmZkAzM3NAZmYmQDMzc0A=",
                    "dtype": "f4"
                  },
                  "z": {
                    "bdata": "ZmamPzMzU0AAAEBAAACQQDMzw0BmZtZAzczcQM3MzEA=",
                    "dtype": "f4"
                  }
                }
              ],
              "layout": {
                "legend": {
                  "title": {
                    "text": "color, symbol"
                  },
                  "tracegroupgap": 0
                },
                "scene": {
                  "domain": {
                    "x": [
                      0,
                      1
                    ],
                    "y": [
                      0,
                      1
                    ]
                  },
                  "xaxis": {
                    "title": {
                      "text": "SepalLengthCm"
                    }
                  },
                  "yaxis": {
                    "title": {
                      "text": "SepalWidthCm"
                    }
                  },
                  "zaxis": {
                    "title": {
                      "text": "PetalLengthCm"
                    }
                  }
                },
                "template": {
                  "data": {
                    "bar": [
                      {
                        "error_x": {
                          "color": "#2a3f5f"
                        },
                        "error_y": {
                          "color": "#2a3f5f"
                        },
                        "marker": {
                          "line": {
                            "color": "#E5ECF6",
                            "width": 0.5
                          },
                          "pattern": {
                            "fillmode": "overlay",
                            "size": 10,
                            "solidity": 0.2
                          }
                        },
                        "type": "bar"
                      }
                    ],
                    "barpolar": [
                      {
                        "marker": {
                          "line": {
                            "color": "#E5ECF6",
                            "width": 0.5
                          },
                          "pattern": {
                            "fillmode": "overlay",
                            "size": 10,
                            "solidity": 0.2
                          }
                        },
                        "type": "barpolar"
                      }
                    ],
                    "carpet": [
                      {
                        "aaxis": {
                          "endlinecolor": "#2a3f5f",
                          "gridcolor": "white",
                          "linecolor": "white",
                          "minorgridcolor": "white",
                          "startlinecolor": "#2a3f5f"
                        },
                        "baxis": {
                          "endlinecolor": "#2a3f5f",
                          "gridcolor": "white",
                          "linecolor": "white",
                          "minorgridcolor": "white",
                          "startlinecolor": "#2a3f5f"
                        },
                        "type": "carpet"
                      }
                    ],
                    "choropleth": [
                      {
                        "colorbar": {
                          "outlinewidth": 0,
                          "ticks": ""
                        },
                        "type": "choropleth"
                      }
                    ],
                    "contour": [
                      {
                        "colorbar": {
                          "outlinewidth": 0,
                          "ticks": ""
                        },
                        "colorscale": [
                          [
                            0,
                            "#0d0887"
                          ],
                          [
                            0.1111111111111111,
                            "#46039f"
                          ],
                          [
                            0.2222222222222222,
                            "#7201a8"
                          ],
                          [
                            0.3333333333333333,
                            "#9c179e"
                          ],
                          [
                            0.4444444444444444,
                            "#bd3786"
                          ],
                          [
                            0.5555555555555556,
                            "#d8576b"
                          ],
                          [
                            0.6666666666666666,
                            "#ed7953"
                          ],
                          [
                            0.7777777777777778,
                            "#fb9f3a"
                          ],
                          [
                            0.8888888888888888,
                            "#fdca26"
                          ],
                          [
                            1,
                            "#f0f921"
                          ]
                        ],
                        "type": "contour"
                      }
                    ],
                    "contourcarpet": [
                      {
                        "colorbar": {
                          "outlinewidth": 0,
                          "ticks": ""
                        },
                        "type": "contourcarpet"
                      }
                    ],
                    "heatmap": [
                      {
                        "colorbar": {
                          "outlinewidth": 0,
                          "ticks": ""
                        },
                        "colorscale": [
                          [
                            0,
                            "#0d0887"
                          ],
                          [
                            0.1111111111111111,
                            "#46039f"
                          ],
                          [
                            0.2222222222222222,
                            "#7201a8"
                          ],
                          [
                            0.3333333333333333,
                            "#9c179e"
                          ],
                          [
                            0.4444444444444444,
                            "#bd3786"
                          ],
                          [
                            0.5555555555555556,
                            "#d8576b"
                          ],
                          [
                            0.6666666666666666,
                            "#ed7953"
                          ],
                          [
                            0.7777777777777778,
                            "#fb9f3a"
                          ],
                          [
                            0.8888888888888888,
                            "#fdca26"
                          ],
                          [
                            1,
                            "#f0f921"
                          ]
                        ],
                        "type": "heatmap"
                      }
                    ],
                    "histogram": [
                      {
                        "marker": {
                          "pattern": {
                            "fillmode": "overlay",
                            "size": 10,
                            "solidity": 0.2
                          }
                        },
                        "type": "histogram"
                      }
                    ],
                    "histogram2d": [
                      {
                        "colorbar": {
                          "outlinewidth": 0,
                          "ticks": ""
                        },
                        "colorscale": [
                          [
                            0,
                            "#0d0887"
                          ],
                          [
                            0.1111111111111111,
                            "#46039f"
                          ],
                          [
                            0.2222222222222222,
                            "#7201a8"
                          ],
                          [
                            0.3333333333333333,
                            "#9c179e"
                          ],
                          [
                            0.4444444444444444,
                            "#bd3786"
                          ],
                          [
                            0.5555555555555556,
                            "#d8576b"
                          ],
                          [
                            0.6666666666666666,
                            "#ed7953"
                          ],
                          [
                            0.7777777777777778,
                            "#fb9f3a"
                          ],
                          [
                            0.8888888888888888,
                            "#fdca26"
                          ],
                          [
                            1,
                            "#f0f921"
                          ]
                        ],
                        "type": "histogram2d"
                      }
                    ],
                    "histogram2dcontour": [
                      {
                        "colorbar": {
                          "outlinewidth": 0,
                          "ticks": ""
                        },
                        "colorscale": [
                          [
                            0,
                            "#0d0887"
                          ],
                          [
                            0.1111111111111111,
                            "#46039f"
                          ],
                          [
                            0.2222222222222222,
                            "#7201a8"
                          ],
                          [
                            0.3333333333333333,
                            "#9c179e"
                          ],
                          [
                            0.4444444444444444,
                            "#bd3786"
                          ],
                          [
                            0.5555555555555556,
                            "#d8576b"
                          ],
                          [
                            0.6666666666666666,
                            "#ed7953"
                          ],
                          [
                            0.7777777777777778,
                            "#fb9f3a"
                          ],
                          [
                            0.8888888888888888,
                            "#fdca26"
                          ],
                          [
                            1,
                            "#f0f921"
                          ]
                        ],
                        "type": "histogram2dcontour"
                      }
                    ],
                    "mesh3d": [
                      {
                        "colorbar": {
                          "outlinewidth": 0,
                          "ticks": ""
                        },
                        "type": "mesh3d"
                      }
                    ],
                    "parcoords": [
                      {
                        "line": {
                          "colorbar": {
                            "outlinewidth": 0,
                            "ticks": ""
                          }
                        },
                        "type": "parcoords"
                      }
                    ],
                    "pie": [
                      {
                        "automargin": true,
                        "type": "pie"
                      }
                    ],
                    "scatter": [
                      {
                        "fillpattern": {
                          "fillmode": "overlay",
                          "size": 10,
                          "solidity": 0.2
                        },
                        "type": "scatter"
                      }
                    ],
                    "scatter3d": [
                      {
                        "line": {
                          "colorbar": {
                            "outlinewidth": 0,
                            "ticks": ""
                          }
                        },
                        "marker": {
                          "colorbar": {
                            "outlinewidth": 0,
                            "ticks": ""
                          }
                        },
                        "type": "scatter3d"
                      }
                    ],
                    "scattercarpet": [
                      {
                        "marker": {
                          "colorbar": {
                            "outlinewidth": 0,
                            "ticks": ""
                          }
                        },
                        "type": "scattercarpet"
                      }
                    ],
                    "scattergeo": [
                      {
                        "marker": {
                          "colorbar": {
                            "outlinewidth": 0,
                            "ticks": ""
                          }
                        },
                        "type": "scattergeo"
                      }
                    ],
                    "scattergl": [
                      {
                        "marker": {
                          "colorbar": {
                            "outlinewidth": 0,
                            "ticks": ""
                          }
                        },
                        "type": "scattergl"
                      }
                    ],
                    "scattermap": [
                      {
                        "marker": {
                          "colorbar": {
                            "outlinewidth": 0,
                            "ticks": ""
                          }
                        },
                        "type": "scattermap"
                      }
                    ],
                    "scattermapbox": [
                      {
                        "marker": {
                          "colorbar": {
                            "outlinewidth": 0,
                            "ticks": ""
                          }
                        },
                        "type": "scattermapbox"
                      }
                    ],
                    "scatterpolar": [
                      {
                        "marker": {
                          "colorbar": {
                            "outlinewidth": 0,
                            "ticks": ""
                          }
                        },
                        "type": "scatterpolar"
                      }
                    ],
                    "scatterpolargl": [
                      {
                        "marker": {
                          "colorbar": {
                            "outlinewidth": 0,
                            "ticks": ""
                          }
                        },
                        "type": "scatterpolargl"
                      }
                    ],
                    "scatterternary": [
                      {
                        "marker": {
                          "colorbar": {
                            "outlinewidth": 0,
                            "ticks": ""
                          }
                        },
                        "type": "scatterternary"
                      }
                    ],
                    "surface": [
                      {
                        "colorbar": {
                          "outlinewidth": 0,
                          "ticks": ""
                        },
                        "colorscale": [
                          [
                            0,
                            "#0d0887"
                          ],
                          [
                            0.1111111111111111,
                            "#46039f"
                          ],
                          [
                            0.2222222222222222,
                            "#7201a8"
                          ],
                          [
                            0.3333333333333333,
                            "#9c179e"
                          ],
                          [
                            0.4444444444444444,
                            "#bd3786"
                          ],
                          [
                            0.5555555555555556,
                            "#d8576b"
                          ],
                          [
                            0.6666666666666666,
                            "#ed7953"
                          ],
                          [
                            0.7777777777777778,
                            "#fb9f3a"
                          ],
                          [
                            0.8888888888888888,
                            "#fdca26"
                          ],
                          [
                            1,
                            "#f0f921"
                          ]
                        ],
                        "type": "surface"
                      }
                    ],
                    "table": [
                      {
                        "cells": {
                          "fill": {
                            "color": "#EBF0F8"
                          },
                          "line": {
                            "color": "white"
                          }
                        },
                        "header": {
                          "fill": {
                            "color": "#C8D4E3"
                          },
                          "line": {
                            "color": "white"
                          }
                        },
                        "type": "table"
                      }
                    ]
                  },
                  "layout": {
                    "annotationdefaults": {
                      "arrowcolor": "#2a3f5f",
                      "arrowhead": 0,
                      "arrowwidth": 1
                    },
                    "autotypenumbers": "strict",
                    "coloraxis": {
                      "colorbar": {
                        "outlinewidth": 0,
                        "ticks": ""
                      }
                    },
                    "colorscale": {
                      "diverging": [
                        [
                          0,
                          "#8e0152"
                        ],
                        [
                          0.1,
                          "#c51b7d"
                        ],
                        [
                          0.2,
                          "#de77ae"
                        ],
                        [
                          0.3,
                          "#f1b6da"
                        ],
                        [
                          0.4,
                          "#fde0ef"
                        ],
                        [
                          0.5,
                          "#f7f7f7"
                        ],
                        [
                          0.6,
                          "#e6f5d0"
                        ],
                        [
                          0.7,
                          "#b8e186"
                        ],
                        [
                          0.8,
                          "#7fbc41"
                        ],
                        [
                          0.9,
                          "#4d9221"
                        ],
                        [
                          1,
                          "#276419"
                        ]
                      ],
                      "sequential": [
                        [
                          0,
                          "#0d0887"
                        ],
                        [
                          0.1111111111111111,
                          "#46039f"
                        ],
                        [
                          0.2222222222222222,
                          "#7201a8"
                        ],
                        [
                          0.3333333333333333,
                          "#9c179e"
                        ],
                        [
                          0.4444444444444444,
                          "#bd3786"
                        ],
                        [
                          0.5555555555555556,
                          "#d8576b"
                        ],
                        [
                          0.6666666666666666,
                          "#ed7953"
                        ],
                        [
                          0.7777777777777778,
                          "#fb9f3a"
                        ],
                        [
                          0.8888888888888888,
                          "#fdca26"
                        ],
                        [
                          1,
                          "#f0f921"
                        ]
                      ],
                      "sequentialminus": [
                        [
                          0,
                          "#0d0887"
                        ],
                        [
                          0.1111111111111111,
                          "#46039f"
                        ],
                        [
                          0.2222222222222222,
                          "#7201a8"
                        ],
                        [
                          0.3333333333333333,
                          "#9c179e"
                        ],
                        [
                          0.4444444444444444,
                          "#bd3786"
                        ],
                        [
                          0.5555555555555556,
                          "#d8576b"
                        ],
                        [
                          0.6666666666666666,
                          "#ed7953"
                        ],
                        [
                          0.7777777777777778,
                          "#fb9f3a"
                        ],
                        [
                          0.8888888888888888,
                          "#fdca26"
                        ],
                        [
                          1,
                          "#f0f921"
                        ]
                      ]
                    },
                    "colorway": [
                      "#636efa",
                      "#EF553B",
                      "#00cc96",
                      "#ab63fa",
                      "#FFA15A",
                      "#19d3f3",
                      "#FF6692",
                      "#B6E880",
                      "#FF97FF",
                      "#FECB52"
                    ],
                    "font": {
                      "color": "#2a3f5f"
                    },
                    "geo": {
                      "bgcolor": "white",
                      "lakecolor": "white",
                      "landcolor": "#E5ECF6",
                      "showlakes": true,
                      "showland": true,
                      "subunitcolor": "white"
                    },
                    "hoverlabel": {
                      "align": "left"
                    },
                    "hovermode": "closest",
                    "mapbox": {
                      "style": "light"
                    },
                    "paper_bgcolor": "white",
                    "plot_bgcolor": "#E5ECF6",
                    "polar": {
                      "angularaxis": {
                        "gridcolor": "white",
                        "linecolor": "white",
                        "ticks": ""
                      },
                      "bgcolor": "#E5ECF6",
                      "radialaxis": {
                        "gridcolor": "white",
                        "linecolor": "white",
                        "ticks": ""
                      }
                    },
                    "scene": {
                      "xaxis": {
                        "backgroundcolor": "#E5ECF6",
                        "gridcolor": "white",
                        "gridwidth": 2,
                        "linecolor": "white",
                        "showbackground": true,
                        "ticks": "",
                        "zerolinecolor": "white"
                      },
                      "yaxis": {
                        "backgroundcolor": "#E5ECF6",
                        "gridcolor": "white",
                        "gridwidth": 2,
                        "linecolor": "white",
                        "showbackground": true,
                        "ticks": "",
                        "zerolinecolor": "white"
                      },
                      "zaxis": {
                        "backgroundcolor": "#E5ECF6",
                        "gridcolor": "white",
                        "gridwidth": 2,
                        "linecolor": "white",
                        "showbackground": true,
                        "ticks": "",
                        "zerolinecolor": "white"
                      }
                    },
                    "shapedefaults": {
                      "line": {
                        "color": "#2a3f5f"
                      }
                    },
                    "ternary": {
                      "aaxis": {
                        "gridcolor": "white",
                        "linecolor": "white",
                        "ticks": ""
                      },
                      "baxis": {
                        "gridcolor": "white",
                        "linecolor": "white",
                        "ticks": ""
                      },
                      "bgcolor": "#E5ECF6",
                      "caxis": {
                        "gridcolor": "white",
                        "linecolor": "white",
                        "ticks": ""
                      }
                    },
                    "title": {
                      "x": 0.05
                    },
                    "xaxis": {
                      "automargin": true,
                      "gridcolor": "white",
                      "linecolor": "white",
                      "ticks": "",
                      "title": {
                        "standoff": 15
                      },
                      "zerolinecolor": "white",
                      "zerolinewidth": 2
                    },
                    "yaxis": {
                      "automargin": true,
                      "gridcolor": "white",
                      "linecolor": "white",
                      "ticks": "",
                      "title": {
                        "standoff": 15
                      },
                      "zerolinecolor": "white",
                      "zerolinewidth": 2
                    }
                  }
                },
                "title": {
                  "text": "3D Outlier Detection (KNN)"
                }
              }
            }
          },
          "metadata": {},
          "output_type": "display_data"
        },
        {
          "data": {
            "application/vnd.plotly.v1+json": {
              "config": {
                "plotlyServerURL": "https://plot.ly"
              },
              "data": [
                {
                  "hovertemplate": "color=Normal<br>symbol=circle<br>SepalLengthCm=%{x}<br>SepalWidthCm=%{y}<br>PetalLengthCm=%{z}<extra></extra>",
                  "legendgroup": "Normal, circle",
                  "marker": {
                    "color": "#636efa",
                    "opacity": 0.7,
                    "size": 6,
                    "symbol": "circle"
                  },
                  "mode": "markers",
                  "name": "Normal, circle",
                  "scene": "scene",
                  "showlegend": true,
                  "type": "scatter3d",
                  "x": {
                    "bdata": "MzOjQM3MnEBmZpZAMzOTQAAAoEDNzKxAMzOTQAAAoEDNzIxAzcycQM3MrECamZlAmpmZQJqZuUDNzKxAMzOjQGZmtkAzM6NAzcysQDMzo0AzM5NAMzOjQJqZmUAAAKBAAACgQGZmpkBmZqZAZmaWQJqZmUDNzKxAZmamQAAAsEDNzJxAAACgQAAAsEDNzJxAzcyMQDMzo0AAAKBAzcyMQAAAoEAzM6NAmpmZQDMzo0AzM5NAmpmpQAAAoEAAAOBAzczMQM3M3EAAALBAAADQQGZmtkCamclAzcycQDMz00BmZqZAzcy8QAAAwEAzM8NAMzOzQGZm1kAzM7NAmpm5QGZmxkAzM7NAzcy8QDMzw0CamclAMzPDQM3MzEAzM9NAmpnZQGZm1kAAAMBAZma2QAAAsEAAALBAmpm5QAAAwEDNzKxAAADAQGZm1kCamclAMzOzQAAAsEAAALBAMzPDQJqZuUAAAKBAMzOzQGZmtkBmZrZAZmbGQDMzo0BmZrZAmpnJQJqZuUAzM+NAmpnJQAAA0EAzM/NAzcycQJqZ6UBmZtZAAADQQM3MzECamdlAZma2QJqZuUDNzMxAAADQQAAAwEDNzNxAMzOzQGZm9kCamclAZmbWQGZm5kBmZsZAMzPDQM3MzEBmZuZAzczsQM3MzECamclAMzPDQGZm9kCamclAzczMQAAAwEDNzNxAZmbWQM3M3ECamblAmpnZQGZm1kBmZtZAmpnJQAAA0EBmZsZAzcy8QA==",
                    "dtype": "f4"
                  },
                  "y": {
                    "bdata": "AABgQAAAQEDNzExAZmZGQGZmZkCamXlAmplZQJqZWUCamTlAZmZGQM3MbECamVlAAABAQAAAgECamXlAAABgQDMzc0AzM3NAmplZQM3MbEBmZmZAMzNTQJqZWUAAAEBAmplZQAAAYECamVlAzcxMQGZmRkCamVlAMzODQGZmhkBmZkZAzcxMQAAAYEBmZkZAAABAQJqZWUAAAGBAzcxMQAAAYEAzM3NAAABAQDMzc0DNzExAzcxsQDMzU0DNzExAzcxMQGZmRkAzMxNAMzMzQDMzM0AzM1NAmpkZQJqZOUDNzCxAAABAQM3MDECamTlAmpk5QGZmRkAAAEBAzcwsQM3MDEAAACBAzcxMQDMzM0AAACBAMzMzQJqZOUAAAEBAMzMzQAAAQECamTlAZmYmQJqZGUCamRlAzcwsQM3MLEAAAEBAmplZQGZmRkAzMxNAAABAQAAAIEBmZiZAAABAQGZmJkAzMxNAzcwsQAAAQECamTlAmpk5QAAAIEAzMzNAMzNTQM3MLEAAAEBAmpk5QAAAQEAAAEBAAAAgQJqZOUAAACBAzcxMQM3MLEAAAEBAAAAgQDMzM0DNzExAAABAQM3MDEDNzExAMzMzQDMzM0DNzCxAMzNTQM3MTEAzMzNAAABAQDMzM0AAAEBAMzMzQDMzM0AzMzNAZmYmQAAAQECamVlAZmZGQAAAQEBmZkZAZmZGQGZmRkDNzCxAzcxMQDMzU0AAAEBAAAAgQAAAQECamVlAAABAQA==",
                    "dtype": "f4"
                  },
                  "z": {
                    "bdata": "MzOzPzMzsz9mZqY/AADAPzMzsz+amdk/MzOzPwAAwD8zM7M/AADAPwAAwD/NzMw/MzOzP5qZmT9mZqY/MzOzP5qZ2T8AAMA/mpnZPwAAwD8AAIA/mpnZPzMz8z/NzMw/zczMPwAAwD8zM7M/zczMP83MzD8AAMA/AADAPzMzsz8AAMA/mpmZP2Zmpj8AAMA/ZmamPwAAwD9mZqY/ZmamP83MzD8zM/M/MzOzP83MzD8zM7M/AADAPzMzsz9mZpZAAACQQM3MnEAAAIBAMzOTQAAAkEBmZpZAMzNTQDMzk0CamXlAZmaGQAAAgEBmZpZAZmZmQM3MjEAAAJBAMzODQAAAkECamXlAmpmZQAAAgEDNzJxAZmaWQJqZiUDNzIxAmpmZQAAAoEAAAJBAAABgQDMzc0DNzGxAmpl5QDMzo0AAAJBAAACQQGZmlkDNzIxAMzODQAAAgEDNzIxAMzOTQAAAgEAzM1NAZmaGQGZmhkBmZoZAmpmJQAAAQEAzM4NAAADAQDMzo0DNzLxAMzOzQJqZuUAzM9NAAACQQJqZyUCamblAMzOjQJqZqUAAALBAAACgQDMzo0CamalAAACwQAAAoEBmZrZAzcycQGZm1kDNzJxAZma2QAAAwECamZlAzcycQDMzs0CamblAMzPDQDMzs0AzM6NAMzOzQDMzw0AzM7NAAACwQJqZmUDNzKxAMzOzQDMzo0AzM6NAzcy8QGZmtkBmZqZAAACgQGZmpkDNzKxAMzOjQA==",
                    "dtype": "f4"
                  }
                },
                {
                  "hovertemplate": "color=Outlier<br>symbol=x<br>SepalLengthCm=%{x}<br>SepalWidthCm=%{y}<br>PetalLengthCm=%{z}<extra></extra>",
                  "legendgroup": "Outlier, x",
                  "marker": {
                    "color": "#EF553B",
                    "opacity": 0.7,
                    "size": 6,
                    "symbol": "diamond"
                  },
                  "mode": "markers",
                  "name": "Outlier, x",
                  "scene": "scene",
                  "showlegend": true,
                  "type": "scatter3d",
                  "x": {
                    "bdata": "mpmJQGZmtkAAAJBAAACgQGZm5kBmZvZAZmb2QM3M/EA=",
                    "dtype": "f4"
                  },
                  "y": {
                    "bdata": "AABAQM3MjEAzMxNAAAAAQGZmZkAzM3NAZmYmQDMzc0A=",
                    "dtype": "f4"
                  },
                  "z": {
                    "bdata": "zcyMPwAAwD9mZqY/AABgQDMzw0BmZtZAzczcQM3MzEA=",
                    "dtype": "f4"
                  }
                }
              ],
              "layout": {
                "legend": {
                  "title": {
                    "text": "color, symbol"
                  },
                  "tracegroupgap": 0
                },
                "scene": {
                  "domain": {
                    "x": [
                      0,
                      1
                    ],
                    "y": [
                      0,
                      1
                    ]
                  },
                  "xaxis": {
                    "title": {
                      "text": "SepalLengthCm"
                    }
                  },
                  "yaxis": {
                    "title": {
                      "text": "SepalWidthCm"
                    }
                  },
                  "zaxis": {
                    "title": {
                      "text": "PetalLengthCm"
                    }
                  }
                },
                "template": {
                  "data": {
                    "bar": [
                      {
                        "error_x": {
                          "color": "#2a3f5f"
                        },
                        "error_y": {
                          "color": "#2a3f5f"
                        },
                        "marker": {
                          "line": {
                            "color": "#E5ECF6",
                            "width": 0.5
                          },
                          "pattern": {
                            "fillmode": "overlay",
                            "size": 10,
                            "solidity": 0.2
                          }
                        },
                        "type": "bar"
                      }
                    ],
                    "barpolar": [
                      {
                        "marker": {
                          "line": {
                            "color": "#E5ECF6",
                            "width": 0.5
                          },
                          "pattern": {
                            "fillmode": "overlay",
                            "size": 10,
                            "solidity": 0.2
                          }
                        },
                        "type": "barpolar"
                      }
                    ],
                    "carpet": [
                      {
                        "aaxis": {
                          "endlinecolor": "#2a3f5f",
                          "gridcolor": "white",
                          "linecolor": "white",
                          "minorgridcolor": "white",
                          "startlinecolor": "#2a3f5f"
                        },
                        "baxis": {
                          "endlinecolor": "#2a3f5f",
                          "gridcolor": "white",
                          "linecolor": "white",
                          "minorgridcolor": "white",
                          "startlinecolor": "#2a3f5f"
                        },
                        "type": "carpet"
                      }
                    ],
                    "choropleth": [
                      {
                        "colorbar": {
                          "outlinewidth": 0,
                          "ticks": ""
                        },
                        "type": "choropleth"
                      }
                    ],
                    "contour": [
                      {
                        "colorbar": {
                          "outlinewidth": 0,
                          "ticks": ""
                        },
                        "colorscale": [
                          [
                            0,
                            "#0d0887"
                          ],
                          [
                            0.1111111111111111,
                            "#46039f"
                          ],
                          [
                            0.2222222222222222,
                            "#7201a8"
                          ],
                          [
                            0.3333333333333333,
                            "#9c179e"
                          ],
                          [
                            0.4444444444444444,
                            "#bd3786"
                          ],
                          [
                            0.5555555555555556,
                            "#d8576b"
                          ],
                          [
                            0.6666666666666666,
                            "#ed7953"
                          ],
                          [
                            0.7777777777777778,
                            "#fb9f3a"
                          ],
                          [
                            0.8888888888888888,
                            "#fdca26"
                          ],
                          [
                            1,
                            "#f0f921"
                          ]
                        ],
                        "type": "contour"
                      }
                    ],
                    "contourcarpet": [
                      {
                        "colorbar": {
                          "outlinewidth": 0,
                          "ticks": ""
                        },
                        "type": "contourcarpet"
                      }
                    ],
                    "heatmap": [
                      {
                        "colorbar": {
                          "outlinewidth": 0,
                          "ticks": ""
                        },
                        "colorscale": [
                          [
                            0,
                            "#0d0887"
                          ],
                          [
                            0.1111111111111111,
                            "#46039f"
                          ],
                          [
                            0.2222222222222222,
                            "#7201a8"
                          ],
                          [
                            0.3333333333333333,
                            "#9c179e"
                          ],
                          [
                            0.4444444444444444,
                            "#bd3786"
                          ],
                          [
                            0.5555555555555556,
                            "#d8576b"
                          ],
                          [
                            0.6666666666666666,
                            "#ed7953"
                          ],
                          [
                            0.7777777777777778,
                            "#fb9f3a"
                          ],
                          [
                            0.8888888888888888,
                            "#fdca26"
                          ],
                          [
                            1,
                            "#f0f921"
                          ]
                        ],
                        "type": "heatmap"
                      }
                    ],
                    "histogram": [
                      {
                        "marker": {
                          "pattern": {
                            "fillmode": "overlay",
                            "size": 10,
                            "solidity": 0.2
                          }
                        },
                        "type": "histogram"
                      }
                    ],
                    "histogram2d": [
                      {
                        "colorbar": {
                          "outlinewidth": 0,
                          "ticks": ""
                        },
                        "colorscale": [
                          [
                            0,
                            "#0d0887"
                          ],
                          [
                            0.1111111111111111,
                            "#46039f"
                          ],
                          [
                            0.2222222222222222,
                            "#7201a8"
                          ],
                          [
                            0.3333333333333333,
                            "#9c179e"
                          ],
                          [
                            0.4444444444444444,
                            "#bd3786"
                          ],
                          [
                            0.5555555555555556,
                            "#d8576b"
                          ],
                          [
                            0.6666666666666666,
                            "#ed7953"
                          ],
                          [
                            0.7777777777777778,
                            "#fb9f3a"
                          ],
                          [
                            0.8888888888888888,
                            "#fdca26"
                          ],
                          [
                            1,
                            "#f0f921"
                          ]
                        ],
                        "type": "histogram2d"
                      }
                    ],
                    "histogram2dcontour": [
                      {
                        "colorbar": {
                          "outlinewidth": 0,
                          "ticks": ""
                        },
                        "colorscale": [
                          [
                            0,
                            "#0d0887"
                          ],
                          [
                            0.1111111111111111,
                            "#46039f"
                          ],
                          [
                            0.2222222222222222,
                            "#7201a8"
                          ],
                          [
                            0.3333333333333333,
                            "#9c179e"
                          ],
                          [
                            0.4444444444444444,
                            "#bd3786"
                          ],
                          [
                            0.5555555555555556,
                            "#d8576b"
                          ],
                          [
                            0.6666666666666666,
                            "#ed7953"
                          ],
                          [
                            0.7777777777777778,
                            "#fb9f3a"
                          ],
                          [
                            0.8888888888888888,
                            "#fdca26"
                          ],
                          [
                            1,
                            "#f0f921"
                          ]
                        ],
                        "type": "histogram2dcontour"
                      }
                    ],
                    "mesh3d": [
                      {
                        "colorbar": {
                          "outlinewidth": 0,
                          "ticks": ""
                        },
                        "type": "mesh3d"
                      }
                    ],
                    "parcoords": [
                      {
                        "line": {
                          "colorbar": {
                            "outlinewidth": 0,
                            "ticks": ""
                          }
                        },
                        "type": "parcoords"
                      }
                    ],
                    "pie": [
                      {
                        "automargin": true,
                        "type": "pie"
                      }
                    ],
                    "scatter": [
                      {
                        "fillpattern": {
                          "fillmode": "overlay",
                          "size": 10,
                          "solidity": 0.2
                        },
                        "type": "scatter"
                      }
                    ],
                    "scatter3d": [
                      {
                        "line": {
                          "colorbar": {
                            "outlinewidth": 0,
                            "ticks": ""
                          }
                        },
                        "marker": {
                          "colorbar": {
                            "outlinewidth": 0,
                            "ticks": ""
                          }
                        },
                        "type": "scatter3d"
                      }
                    ],
                    "scattercarpet": [
                      {
                        "marker": {
                          "colorbar": {
                            "outlinewidth": 0,
                            "ticks": ""
                          }
                        },
                        "type": "scattercarpet"
                      }
                    ],
                    "scattergeo": [
                      {
                        "marker": {
                          "colorbar": {
                            "outlinewidth": 0,
                            "ticks": ""
                          }
                        },
                        "type": "scattergeo"
                      }
                    ],
                    "scattergl": [
                      {
                        "marker": {
                          "colorbar": {
                            "outlinewidth": 0,
                            "ticks": ""
                          }
                        },
                        "type": "scattergl"
                      }
                    ],
                    "scattermap": [
                      {
                        "marker": {
                          "colorbar": {
                            "outlinewidth": 0,
                            "ticks": ""
                          }
                        },
                        "type": "scattermap"
                      }
                    ],
                    "scattermapbox": [
                      {
                        "marker": {
                          "colorbar": {
                            "outlinewidth": 0,
                            "ticks": ""
                          }
                        },
                        "type": "scattermapbox"
                      }
                    ],
                    "scatterpolar": [
                      {
                        "marker": {
                          "colorbar": {
                            "outlinewidth": 0,
                            "ticks": ""
                          }
                        },
                        "type": "scatterpolar"
                      }
                    ],
                    "scatterpolargl": [
                      {
                        "marker": {
                          "colorbar": {
                            "outlinewidth": 0,
                            "ticks": ""
                          }
                        },
                        "type": "scatterpolargl"
                      }
                    ],
                    "scatterternary": [
                      {
                        "marker": {
                          "colorbar": {
                            "outlinewidth": 0,
                            "ticks": ""
                          }
                        },
                        "type": "scatterternary"
                      }
                    ],
                    "surface": [
                      {
                        "colorbar": {
                          "outlinewidth": 0,
                          "ticks": ""
                        },
                        "colorscale": [
                          [
                            0,
                            "#0d0887"
                          ],
                          [
                            0.1111111111111111,
                            "#46039f"
                          ],
                          [
                            0.2222222222222222,
                            "#7201a8"
                          ],
                          [
                            0.3333333333333333,
                            "#9c179e"
                          ],
                          [
                            0.4444444444444444,
                            "#bd3786"
                          ],
                          [
                            0.5555555555555556,
                            "#d8576b"
                          ],
                          [
                            0.6666666666666666,
                            "#ed7953"
                          ],
                          [
                            0.7777777777777778,
                            "#fb9f3a"
                          ],
                          [
                            0.8888888888888888,
                            "#fdca26"
                          ],
                          [
                            1,
                            "#f0f921"
                          ]
                        ],
                        "type": "surface"
                      }
                    ],
                    "table": [
                      {
                        "cells": {
                          "fill": {
                            "color": "#EBF0F8"
                          },
                          "line": {
                            "color": "white"
                          }
                        },
                        "header": {
                          "fill": {
                            "color": "#C8D4E3"
                          },
                          "line": {
                            "color": "white"
                          }
                        },
                        "type": "table"
                      }
                    ]
                  },
                  "layout": {
                    "annotationdefaults": {
                      "arrowcolor": "#2a3f5f",
                      "arrowhead": 0,
                      "arrowwidth": 1
                    },
                    "autotypenumbers": "strict",
                    "coloraxis": {
                      "colorbar": {
                        "outlinewidth": 0,
                        "ticks": ""
                      }
                    },
                    "colorscale": {
                      "diverging": [
                        [
                          0,
                          "#8e0152"
                        ],
                        [
                          0.1,
                          "#c51b7d"
                        ],
                        [
                          0.2,
                          "#de77ae"
                        ],
                        [
                          0.3,
                          "#f1b6da"
                        ],
                        [
                          0.4,
                          "#fde0ef"
                        ],
                        [
                          0.5,
                          "#f7f7f7"
                        ],
                        [
                          0.6,
                          "#e6f5d0"
                        ],
                        [
                          0.7,
                          "#b8e186"
                        ],
                        [
                          0.8,
                          "#7fbc41"
                        ],
                        [
                          0.9,
                          "#4d9221"
                        ],
                        [
                          1,
                          "#276419"
                        ]
                      ],
                      "sequential": [
                        [
                          0,
                          "#0d0887"
                        ],
                        [
                          0.1111111111111111,
                          "#46039f"
                        ],
                        [
                          0.2222222222222222,
                          "#7201a8"
                        ],
                        [
                          0.3333333333333333,
                          "#9c179e"
                        ],
                        [
                          0.4444444444444444,
                          "#bd3786"
                        ],
                        [
                          0.5555555555555556,
                          "#d8576b"
                        ],
                        [
                          0.6666666666666666,
                          "#ed7953"
                        ],
                        [
                          0.7777777777777778,
                          "#fb9f3a"
                        ],
                        [
                          0.8888888888888888,
                          "#fdca26"
                        ],
                        [
                          1,
                          "#f0f921"
                        ]
                      ],
                      "sequentialminus": [
                        [
                          0,
                          "#0d0887"
                        ],
                        [
                          0.1111111111111111,
                          "#46039f"
                        ],
                        [
                          0.2222222222222222,
                          "#7201a8"
                        ],
                        [
                          0.3333333333333333,
                          "#9c179e"
                        ],
                        [
                          0.4444444444444444,
                          "#bd3786"
                        ],
                        [
                          0.5555555555555556,
                          "#d8576b"
                        ],
                        [
                          0.6666666666666666,
                          "#ed7953"
                        ],
                        [
                          0.7777777777777778,
                          "#fb9f3a"
                        ],
                        [
                          0.8888888888888888,
                          "#fdca26"
                        ],
                        [
                          1,
                          "#f0f921"
                        ]
                      ]
                    },
                    "colorway": [
                      "#636efa",
                      "#EF553B",
                      "#00cc96",
                      "#ab63fa",
                      "#FFA15A",
                      "#19d3f3",
                      "#FF6692",
                      "#B6E880",
                      "#FF97FF",
                      "#FECB52"
                    ],
                    "font": {
                      "color": "#2a3f5f"
                    },
                    "geo": {
                      "bgcolor": "white",
                      "lakecolor": "white",
                      "landcolor": "#E5ECF6",
                      "showlakes": true,
                      "showland": true,
                      "subunitcolor": "white"
                    },
                    "hoverlabel": {
                      "align": "left"
                    },
                    "hovermode": "closest",
                    "mapbox": {
                      "style": "light"
                    },
                    "paper_bgcolor": "white",
                    "plot_bgcolor": "#E5ECF6",
                    "polar": {
                      "angularaxis": {
                        "gridcolor": "white",
                        "linecolor": "white",
                        "ticks": ""
                      },
                      "bgcolor": "#E5ECF6",
                      "radialaxis": {
                        "gridcolor": "white",
                        "linecolor": "white",
                        "ticks": ""
                      }
                    },
                    "scene": {
                      "xaxis": {
                        "backgroundcolor": "#E5ECF6",
                        "gridcolor": "white",
                        "gridwidth": 2,
                        "linecolor": "white",
                        "showbackground": true,
                        "ticks": "",
                        "zerolinecolor": "white"
                      },
                      "yaxis": {
                        "backgroundcolor": "#E5ECF6",
                        "gridcolor": "white",
                        "gridwidth": 2,
                        "linecolor": "white",
                        "showbackground": true,
                        "ticks": "",
                        "zerolinecolor": "white"
                      },
                      "zaxis": {
                        "backgroundcolor": "#E5ECF6",
                        "gridcolor": "white",
                        "gridwidth": 2,
                        "linecolor": "white",
                        "showbackground": true,
                        "ticks": "",
                        "zerolinecolor": "white"
                      }
                    },
                    "shapedefaults": {
                      "line": {
                        "color": "#2a3f5f"
                      }
                    },
                    "ternary": {
                      "aaxis": {
                        "gridcolor": "white",
                        "linecolor": "white",
                        "ticks": ""
                      },
                      "baxis": {
                        "gridcolor": "white",
                        "linecolor": "white",
                        "ticks": ""
                      },
                      "bgcolor": "#E5ECF6",
                      "caxis": {
                        "gridcolor": "white",
                        "linecolor": "white",
                        "ticks": ""
                      }
                    },
                    "title": {
                      "x": 0.05
                    },
                    "xaxis": {
                      "automargin": true,
                      "gridcolor": "white",
                      "linecolor": "white",
                      "ticks": "",
                      "title": {
                        "standoff": 15
                      },
                      "zerolinecolor": "white",
                      "zerolinewidth": 2
                    },
                    "yaxis": {
                      "automargin": true,
                      "gridcolor": "white",
                      "linecolor": "white",
                      "ticks": "",
                      "title": {
                        "standoff": 15
                      },
                      "zerolinecolor": "white",
                      "zerolinewidth": 2
                    }
                  }
                },
                "title": {
                  "text": "3D Outlier Detection (Isolation Forest)"
                }
              }
            }
          },
          "metadata": {},
          "output_type": "display_data"
        },
        {
          "data": {
            "application/vnd.plotly.v1+json": {
              "config": {
                "plotlyServerURL": "https://plot.ly"
              },
              "data": [
                {
                  "hovertemplate": "color=Normal<br>symbol=circle<br>SepalLengthCm=%{x}<br>SepalWidthCm=%{y}<br>PetalLengthCm=%{z}<extra></extra>",
                  "legendgroup": "Normal, circle",
                  "marker": {
                    "color": "#636efa",
                    "opacity": 0.7,
                    "size": 6,
                    "symbol": "circle"
                  },
                  "mode": "markers",
                  "name": "Normal, circle",
                  "scene": "scene",
                  "showlegend": true,
                  "type": "scatter3d",
                  "x": {
                    "bdata": "MzOjQM3MnEBmZpZAMzOTQAAAoEDNzKxAMzOTQAAAoEDNzIxAzcycQM3MrECamZlAmpmZQJqZiUDNzKxAMzOjQGZmtkAzM6NAzcysQDMzo0AzM5NAMzOjQJqZmUAAAKBAAACgQGZmpkBmZqZAZmaWQJqZmUDNzKxAZmamQAAAsEDNzJxAAACgQAAAsEDNzJxAzcyMQDMzo0AAAKBAzcyMQAAAoEAzM6NAmpmZQDMzo0AzM5NAmpmpQAAAoEAAAOBAzczMQM3M3EAAALBAAADQQGZmtkCamclAzcycQDMz00BmZqZAAACgQM3MvEAAAMBAMzPDQDMzs0BmZtZAMzOzQJqZuUBmZsZAMzOzQM3MvEAzM8NAmpnJQDMzw0DNzMxAMzPTQJqZ2UBmZtZAAADAQGZmtkAAALBAAACwQJqZuUAAAMBAzcysQAAAwEBmZtZAmpnJQDMzs0AAALBAAACwQDMzw0CamblAAACgQDMzs0BmZrZAZma2QGZmxkBmZrZAmpnJQJqZuUAzM+NAmpnJQAAA0EAzM/NAzcycQJqZ6UBmZtZAZmbmQAAA0EDNzMxAmpnZQGZmtkCamblAzczMQAAA0EAAAMBAzczcQDMzs0CamclAZmbWQGZm5kBmZsZAMzPDQM3MzEBmZuZAzczsQM3MzECamclAMzPDQGZm9kCamclAzczMQAAAwEDNzNxAZmbWQM3M3ECamblAmpnZQGZm1kBmZtZAmpnJQAAA0EBmZsZAzcy8QA==",
                    "dtype": "f4"
                  },
                  "y": {
                    "bdata": "AABgQAAAQEDNzExAZmZGQGZmZkCamXlAmplZQJqZWUCamTlAZmZGQM3MbECamVlAAABAQAAAQECamXlAAABgQDMzc0AzM3NAmplZQM3MbEBmZmZAMzNTQJqZWUAAAEBAmplZQAAAYECamVlAzcxMQGZmRkCamVlAMzODQGZmhkBmZkZAzcxMQAAAYEBmZkZAAABAQJqZWUAAAGBAzcxMQAAAYEAzM3NAAABAQDMzc0DNzExAzcxsQDMzU0DNzExAzcxMQGZmRkAzMxNAMzMzQDMzM0AzM1NAmpkZQJqZOUDNzCxAAAAAQAAAQEDNzAxAmpk5QJqZOUBmZkZAAABAQM3MLEDNzAxAAAAgQM3MTEAzMzNAAAAgQDMzM0CamTlAAABAQDMzM0AAAEBAmpk5QGZmJkCamRlAmpkZQM3MLEDNzCxAAABAQJqZWUBmZkZAMzMTQAAAQEAAACBAZmYmQAAAQEBmZiZAMzMTQM3MLEAAAEBAmpk5QJqZOUAzMzNAMzNTQM3MLEAAAEBAmpk5QAAAQEAAAEBAAAAgQJqZOUAAACBAZmZmQM3MTEDNzCxAAABAQAAAIEAzMzNAzcxMQAAAQEDNzAxAzcxMQDMzM0DNzCxAMzNTQM3MTEAzMzNAAABAQDMzM0AAAEBAMzMzQDMzM0AzMzNAZmYmQAAAQECamVlAZmZGQAAAQEBmZkZAZmZGQGZmRkDNzCxAzcxMQDMzU0AAAEBAAAAgQAAAQECamVlAAABAQA==",
                    "dtype": "f4"
                  },
                  "z": {
                    "bdata": "MzOzPzMzsz9mZqY/AADAPzMzsz+amdk/MzOzPwAAwD8zM7M/AADAPwAAwD/NzMw/MzOzP83MjD9mZqY/MzOzP5qZ2T8AAMA/mpnZPwAAwD8AAIA/mpnZPzMz8z/NzMw/zczMPwAAwD8zM7M/zczMP83MzD8AAMA/AADAPzMzsz8AAMA/mpmZP2Zmpj8AAMA/ZmamPwAAwD9mZqY/ZmamP83MzD8zM/M/MzOzP83MzD8zM7M/AADAPzMzsz9mZpZAAACQQM3MnEAAAIBAMzOTQAAAkEBmZpZAMzNTQDMzk0CamXlAAABgQGZmhkAAAIBAZmaWQGZmZkDNzIxAAACQQDMzg0AAAJBAmpl5QJqZmUAAAIBAzcycQGZmlkCamYlAzcyMQJqZmUAAAKBAAACQQAAAYEAzM3NAzcxsQJqZeUAzM6NAAACQQAAAkEBmZpZAzcyMQDMzg0AAAIBAzcyMQDMzk0AAAIBAMzNTQGZmhkBmZoZAZmaGQJqZiUAzM4NAAADAQDMzo0DNzLxAMzOzQJqZuUAzM9NAAACQQJqZyUCamblAMzPDQDMzo0CamalAAACwQAAAoEAzM6NAmpmpQAAAsEAAAKBAZma2QM3MnEDNzJxAZma2QAAAwECamZlAzcycQDMzs0CamblAMzPDQDMzs0AzM6NAMzOzQDMzw0AzM7NAAACwQJqZmUDNzKxAMzOzQDMzo0AzM6NAzcy8QGZmtkBmZqZAAACgQGZmpkDNzKxAMzOjQA==",
                    "dtype": "f4"
                  }
                },
                {
                  "hovertemplate": "color=Outlier<br>symbol=x<br>SepalLengthCm=%{x}<br>SepalWidthCm=%{y}<br>PetalLengthCm=%{z}<extra></extra>",
                  "legendgroup": "Outlier, x",
                  "marker": {
                    "color": "#EF553B",
                    "opacity": 0.7,
                    "size": 6,
                    "symbol": "diamond"
                  },
                  "mode": "markers",
                  "name": "Outlier, x",
                  "scene": "scene",
                  "showlegend": true,
                  "type": "scatter3d",
                  "x": {
                    "bdata": "mpm5QGZmtkAAAJBAMzOjQGZm9kBmZvZAZmb2QM3M/EA=",
                    "dtype": "f4"
                  },
                  "y": {
                    "bdata": "AACAQM3MjEAzMxNAAAAgQDMzc0BmZiZAMzMzQDMzc0A=",
                    "dtype": "f4"
                  },
                  "z": {
                    "bdata": "mpmZPwAAwD9mZqY/AABAQGZm1kDNzNxAZmbWQM3MzEA=",
                    "dtype": "f4"
                  }
                }
              ],
              "layout": {
                "legend": {
                  "title": {
                    "text": "color, symbol"
                  },
                  "tracegroupgap": 0
                },
                "scene": {
                  "domain": {
                    "x": [
                      0,
                      1
                    ],
                    "y": [
                      0,
                      1
                    ]
                  },
                  "xaxis": {
                    "title": {
                      "text": "SepalLengthCm"
                    }
                  },
                  "yaxis": {
                    "title": {
                      "text": "SepalWidthCm"
                    }
                  },
                  "zaxis": {
                    "title": {
                      "text": "PetalLengthCm"
                    }
                  }
                },
                "template": {
                  "data": {
                    "bar": [
                      {
                        "error_x": {
                          "color": "#2a3f5f"
                        },
                        "error_y": {
                          "color": "#2a3f5f"
                        },
                        "marker": {
                          "line": {
                            "color": "#E5ECF6",
                            "width": 0.5
                          },
                          "pattern": {
                            "fillmode": "overlay",
                            "size": 10,
                            "solidity": 0.2
                          }
                        },
                        "type": "bar"
                      }
                    ],
                    "barpolar": [
                      {
                        "marker": {
                          "line": {
                            "color": "#E5ECF6",
                            "width": 0.5
                          },
                          "pattern": {
                            "fillmode": "overlay",
                            "size": 10,
                            "solidity": 0.2
                          }
                        },
                        "type": "barpolar"
                      }
                    ],
                    "carpet": [
                      {
                        "aaxis": {
                          "endlinecolor": "#2a3f5f",
                          "gridcolor": "white",
                          "linecolor": "white",
                          "minorgridcolor": "white",
                          "startlinecolor": "#2a3f5f"
                        },
                        "baxis": {
                          "endlinecolor": "#2a3f5f",
                          "gridcolor": "white",
                          "linecolor": "white",
                          "minorgridcolor": "white",
                          "startlinecolor": "#2a3f5f"
                        },
                        "type": "carpet"
                      }
                    ],
                    "choropleth": [
                      {
                        "colorbar": {
                          "outlinewidth": 0,
                          "ticks": ""
                        },
                        "type": "choropleth"
                      }
                    ],
                    "contour": [
                      {
                        "colorbar": {
                          "outlinewidth": 0,
                          "ticks": ""
                        },
                        "colorscale": [
                          [
                            0,
                            "#0d0887"
                          ],
                          [
                            0.1111111111111111,
                            "#46039f"
                          ],
                          [
                            0.2222222222222222,
                            "#7201a8"
                          ],
                          [
                            0.3333333333333333,
                            "#9c179e"
                          ],
                          [
                            0.4444444444444444,
                            "#bd3786"
                          ],
                          [
                            0.5555555555555556,
                            "#d8576b"
                          ],
                          [
                            0.6666666666666666,
                            "#ed7953"
                          ],
                          [
                            0.7777777777777778,
                            "#fb9f3a"
                          ],
                          [
                            0.8888888888888888,
                            "#fdca26"
                          ],
                          [
                            1,
                            "#f0f921"
                          ]
                        ],
                        "type": "contour"
                      }
                    ],
                    "contourcarpet": [
                      {
                        "colorbar": {
                          "outlinewidth": 0,
                          "ticks": ""
                        },
                        "type": "contourcarpet"
                      }
                    ],
                    "heatmap": [
                      {
                        "colorbar": {
                          "outlinewidth": 0,
                          "ticks": ""
                        },
                        "colorscale": [
                          [
                            0,
                            "#0d0887"
                          ],
                          [
                            0.1111111111111111,
                            "#46039f"
                          ],
                          [
                            0.2222222222222222,
                            "#7201a8"
                          ],
                          [
                            0.3333333333333333,
                            "#9c179e"
                          ],
                          [
                            0.4444444444444444,
                            "#bd3786"
                          ],
                          [
                            0.5555555555555556,
                            "#d8576b"
                          ],
                          [
                            0.6666666666666666,
                            "#ed7953"
                          ],
                          [
                            0.7777777777777778,
                            "#fb9f3a"
                          ],
                          [
                            0.8888888888888888,
                            "#fdca26"
                          ],
                          [
                            1,
                            "#f0f921"
                          ]
                        ],
                        "type": "heatmap"
                      }
                    ],
                    "histogram": [
                      {
                        "marker": {
                          "pattern": {
                            "fillmode": "overlay",
                            "size": 10,
                            "solidity": 0.2
                          }
                        },
                        "type": "histogram"
                      }
                    ],
                    "histogram2d": [
                      {
                        "colorbar": {
                          "outlinewidth": 0,
                          "ticks": ""
                        },
                        "colorscale": [
                          [
                            0,
                            "#0d0887"
                          ],
                          [
                            0.1111111111111111,
                            "#46039f"
                          ],
                          [
                            0.2222222222222222,
                            "#7201a8"
                          ],
                          [
                            0.3333333333333333,
                            "#9c179e"
                          ],
                          [
                            0.4444444444444444,
                            "#bd3786"
                          ],
                          [
                            0.5555555555555556,
                            "#d8576b"
                          ],
                          [
                            0.6666666666666666,
                            "#ed7953"
                          ],
                          [
                            0.7777777777777778,
                            "#fb9f3a"
                          ],
                          [
                            0.8888888888888888,
                            "#fdca26"
                          ],
                          [
                            1,
                            "#f0f921"
                          ]
                        ],
                        "type": "histogram2d"
                      }
                    ],
                    "histogram2dcontour": [
                      {
                        "colorbar": {
                          "outlinewidth": 0,
                          "ticks": ""
                        },
                        "colorscale": [
                          [
                            0,
                            "#0d0887"
                          ],
                          [
                            0.1111111111111111,
                            "#46039f"
                          ],
                          [
                            0.2222222222222222,
                            "#7201a8"
                          ],
                          [
                            0.3333333333333333,
                            "#9c179e"
                          ],
                          [
                            0.4444444444444444,
                            "#bd3786"
                          ],
                          [
                            0.5555555555555556,
                            "#d8576b"
                          ],
                          [
                            0.6666666666666666,
                            "#ed7953"
                          ],
                          [
                            0.7777777777777778,
                            "#fb9f3a"
                          ],
                          [
                            0.8888888888888888,
                            "#fdca26"
                          ],
                          [
                            1,
                            "#f0f921"
                          ]
                        ],
                        "type": "histogram2dcontour"
                      }
                    ],
                    "mesh3d": [
                      {
                        "colorbar": {
                          "outlinewidth": 0,
                          "ticks": ""
                        },
                        "type": "mesh3d"
                      }
                    ],
                    "parcoords": [
                      {
                        "line": {
                          "colorbar": {
                            "outlinewidth": 0,
                            "ticks": ""
                          }
                        },
                        "type": "parcoords"
                      }
                    ],
                    "pie": [
                      {
                        "automargin": true,
                        "type": "pie"
                      }
                    ],
                    "scatter": [
                      {
                        "fillpattern": {
                          "fillmode": "overlay",
                          "size": 10,
                          "solidity": 0.2
                        },
                        "type": "scatter"
                      }
                    ],
                    "scatter3d": [
                      {
                        "line": {
                          "colorbar": {
                            "outlinewidth": 0,
                            "ticks": ""
                          }
                        },
                        "marker": {
                          "colorbar": {
                            "outlinewidth": 0,
                            "ticks": ""
                          }
                        },
                        "type": "scatter3d"
                      }
                    ],
                    "scattercarpet": [
                      {
                        "marker": {
                          "colorbar": {
                            "outlinewidth": 0,
                            "ticks": ""
                          }
                        },
                        "type": "scattercarpet"
                      }
                    ],
                    "scattergeo": [
                      {
                        "marker": {
                          "colorbar": {
                            "outlinewidth": 0,
                            "ticks": ""
                          }
                        },
                        "type": "scattergeo"
                      }
                    ],
                    "scattergl": [
                      {
                        "marker": {
                          "colorbar": {
                            "outlinewidth": 0,
                            "ticks": ""
                          }
                        },
                        "type": "scattergl"
                      }
                    ],
                    "scattermap": [
                      {
                        "marker": {
                          "colorbar": {
                            "outlinewidth": 0,
                            "ticks": ""
                          }
                        },
                        "type": "scattermap"
                      }
                    ],
                    "scattermapbox": [
                      {
                        "marker": {
                          "colorbar": {
                            "outlinewidth": 0,
                            "ticks": ""
                          }
                        },
                        "type": "scattermapbox"
                      }
                    ],
                    "scatterpolar": [
                      {
                        "marker": {
                          "colorbar": {
                            "outlinewidth": 0,
                            "ticks": ""
                          }
                        },
                        "type": "scatterpolar"
                      }
                    ],
                    "scatterpolargl": [
                      {
                        "marker": {
                          "colorbar": {
                            "outlinewidth": 0,
                            "ticks": ""
                          }
                        },
                        "type": "scatterpolargl"
                      }
                    ],
                    "scatterternary": [
                      {
                        "marker": {
                          "colorbar": {
                            "outlinewidth": 0,
                            "ticks": ""
                          }
                        },
                        "type": "scatterternary"
                      }
                    ],
                    "surface": [
                      {
                        "colorbar": {
                          "outlinewidth": 0,
                          "ticks": ""
                        },
                        "colorscale": [
                          [
                            0,
                            "#0d0887"
                          ],
                          [
                            0.1111111111111111,
                            "#46039f"
                          ],
                          [
                            0.2222222222222222,
                            "#7201a8"
                          ],
                          [
                            0.3333333333333333,
                            "#9c179e"
                          ],
                          [
                            0.4444444444444444,
                            "#bd3786"
                          ],
                          [
                            0.5555555555555556,
                            "#d8576b"
                          ],
                          [
                            0.6666666666666666,
                            "#ed7953"
                          ],
                          [
                            0.7777777777777778,
                            "#fb9f3a"
                          ],
                          [
                            0.8888888888888888,
                            "#fdca26"
                          ],
                          [
                            1,
                            "#f0f921"
                          ]
                        ],
                        "type": "surface"
                      }
                    ],
                    "table": [
                      {
                        "cells": {
                          "fill": {
                            "color": "#EBF0F8"
                          },
                          "line": {
                            "color": "white"
                          }
                        },
                        "header": {
                          "fill": {
                            "color": "#C8D4E3"
                          },
                          "line": {
                            "color": "white"
                          }
                        },
                        "type": "table"
                      }
                    ]
                  },
                  "layout": {
                    "annotationdefaults": {
                      "arrowcolor": "#2a3f5f",
                      "arrowhead": 0,
                      "arrowwidth": 1
                    },
                    "autotypenumbers": "strict",
                    "coloraxis": {
                      "colorbar": {
                        "outlinewidth": 0,
                        "ticks": ""
                      }
                    },
                    "colorscale": {
                      "diverging": [
                        [
                          0,
                          "#8e0152"
                        ],
                        [
                          0.1,
                          "#c51b7d"
                        ],
                        [
                          0.2,
                          "#de77ae"
                        ],
                        [
                          0.3,
                          "#f1b6da"
                        ],
                        [
                          0.4,
                          "#fde0ef"
                        ],
                        [
                          0.5,
                          "#f7f7f7"
                        ],
                        [
                          0.6,
                          "#e6f5d0"
                        ],
                        [
                          0.7,
                          "#b8e186"
                        ],
                        [
                          0.8,
                          "#7fbc41"
                        ],
                        [
                          0.9,
                          "#4d9221"
                        ],
                        [
                          1,
                          "#276419"
                        ]
                      ],
                      "sequential": [
                        [
                          0,
                          "#0d0887"
                        ],
                        [
                          0.1111111111111111,
                          "#46039f"
                        ],
                        [
                          0.2222222222222222,
                          "#7201a8"
                        ],
                        [
                          0.3333333333333333,
                          "#9c179e"
                        ],
                        [
                          0.4444444444444444,
                          "#bd3786"
                        ],
                        [
                          0.5555555555555556,
                          "#d8576b"
                        ],
                        [
                          0.6666666666666666,
                          "#ed7953"
                        ],
                        [
                          0.7777777777777778,
                          "#fb9f3a"
                        ],
                        [
                          0.8888888888888888,
                          "#fdca26"
                        ],
                        [
                          1,
                          "#f0f921"
                        ]
                      ],
                      "sequentialminus": [
                        [
                          0,
                          "#0d0887"
                        ],
                        [
                          0.1111111111111111,
                          "#46039f"
                        ],
                        [
                          0.2222222222222222,
                          "#7201a8"
                        ],
                        [
                          0.3333333333333333,
                          "#9c179e"
                        ],
                        [
                          0.4444444444444444,
                          "#bd3786"
                        ],
                        [
                          0.5555555555555556,
                          "#d8576b"
                        ],
                        [
                          0.6666666666666666,
                          "#ed7953"
                        ],
                        [
                          0.7777777777777778,
                          "#fb9f3a"
                        ],
                        [
                          0.8888888888888888,
                          "#fdca26"
                        ],
                        [
                          1,
                          "#f0f921"
                        ]
                      ]
                    },
                    "colorway": [
                      "#636efa",
                      "#EF553B",
                      "#00cc96",
                      "#ab63fa",
                      "#FFA15A",
                      "#19d3f3",
                      "#FF6692",
                      "#B6E880",
                      "#FF97FF",
                      "#FECB52"
                    ],
                    "font": {
                      "color": "#2a3f5f"
                    },
                    "geo": {
                      "bgcolor": "white",
                      "lakecolor": "white",
                      "landcolor": "#E5ECF6",
                      "showlakes": true,
                      "showland": true,
                      "subunitcolor": "white"
                    },
                    "hoverlabel": {
                      "align": "left"
                    },
                    "hovermode": "closest",
                    "mapbox": {
                      "style": "light"
                    },
                    "paper_bgcolor": "white",
                    "plot_bgcolor": "#E5ECF6",
                    "polar": {
                      "angularaxis": {
                        "gridcolor": "white",
                        "linecolor": "white",
                        "ticks": ""
                      },
                      "bgcolor": "#E5ECF6",
                      "radialaxis": {
                        "gridcolor": "white",
                        "linecolor": "white",
                        "ticks": ""
                      }
                    },
                    "scene": {
                      "xaxis": {
                        "backgroundcolor": "#E5ECF6",
                        "gridcolor": "white",
                        "gridwidth": 2,
                        "linecolor": "white",
                        "showbackground": true,
                        "ticks": "",
                        "zerolinecolor": "white"
                      },
                      "yaxis": {
                        "backgroundcolor": "#E5ECF6",
                        "gridcolor": "white",
                        "gridwidth": 2,
                        "linecolor": "white",
                        "showbackground": true,
                        "ticks": "",
                        "zerolinecolor": "white"
                      },
                      "zaxis": {
                        "backgroundcolor": "#E5ECF6",
                        "gridcolor": "white",
                        "gridwidth": 2,
                        "linecolor": "white",
                        "showbackground": true,
                        "ticks": "",
                        "zerolinecolor": "white"
                      }
                    },
                    "shapedefaults": {
                      "line": {
                        "color": "#2a3f5f"
                      }
                    },
                    "ternary": {
                      "aaxis": {
                        "gridcolor": "white",
                        "linecolor": "white",
                        "ticks": ""
                      },
                      "baxis": {
                        "gridcolor": "white",
                        "linecolor": "white",
                        "ticks": ""
                      },
                      "bgcolor": "#E5ECF6",
                      "caxis": {
                        "gridcolor": "white",
                        "linecolor": "white",
                        "ticks": ""
                      }
                    },
                    "title": {
                      "x": 0.05
                    },
                    "xaxis": {
                      "automargin": true,
                      "gridcolor": "white",
                      "linecolor": "white",
                      "ticks": "",
                      "title": {
                        "standoff": 15
                      },
                      "zerolinecolor": "white",
                      "zerolinewidth": 2
                    },
                    "yaxis": {
                      "automargin": true,
                      "gridcolor": "white",
                      "linecolor": "white",
                      "ticks": "",
                      "title": {
                        "standoff": 15
                      },
                      "zerolinecolor": "white",
                      "zerolinewidth": 2
                    }
                  }
                },
                "title": {
                  "text": "3D Outlier Detection (LOF)"
                }
              }
            }
          },
          "metadata": {},
          "output_type": "display_data"
        }
      ],
      "source": [
        "import plotly.express as px\n",
        "from pycaret.anomaly import setup, create_model, assign_model\n",
        "import pandas as pd\n",
        "\n",
        "# --- Load dataset\n",
        "df = pd.read_csv('Iris(1).csv')\n",
        "df_num = df.drop(columns=['Id', 'Species'])\n",
        "\n",
        "# --- Setup PyCaret\n",
        "setup(data=df_num, session_id=123, verbose=False, profile=False, html=False)\n",
        "\n",
        "# --- Buat & assign model untuk 3 metode\n",
        "models = {\n",
        "    \"KNN\": create_model('knn'),\n",
        "    \"Isolation Forest\": create_model('iforest'),\n",
        "    \"LOF\": create_model('lof')\n",
        "}\n",
        "\n",
        "results = {name: assign_model(model) for name, model in models.items()}\n",
        "\n",
        "# --- Visualisasi 3D untuk masing-masing metode\n",
        "for name, df_plot in results.items():\n",
        "    fig = px.scatter_3d(\n",
        "        df_plot,\n",
        "        x='SepalLengthCm',\n",
        "        y='SepalWidthCm',\n",
        "        z='PetalLengthCm',\n",
        "        color=df_plot['Anomaly'].map({0: 'Normal', 1: 'Outlier'}),\n",
        "        symbol=df_plot['Anomaly'].map({0: 'circle', 1: 'x'}),\n",
        "        opacity=0.7,\n",
        "        title=f\"3D Outlier Detection ({name})\"\n",
        "    )\n",
        "    fig.update_traces(marker=dict(size=6))\n",
        "    fig.show()\n"
      ]
    }
  ],
  "metadata": {
    "colab": {
      "provenance": []
    },
    "kernelspec": {
      "display_name": ".venv (3.11.13)",
      "language": "python",
      "name": "python3"
    },
    "language_info": {
      "codemirror_mode": {
        "name": "ipython",
        "version": 3
      },
      "file_extension": ".py",
      "mimetype": "text/x-python",
      "name": "python",
      "nbconvert_exporter": "python",
      "pygments_lexer": "ipython3",
      "version": "3.11.13"
    }
  },
  "nbformat": 4,
  "nbformat_minor": 0
}

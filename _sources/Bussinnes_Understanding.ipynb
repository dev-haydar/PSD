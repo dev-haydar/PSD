{
  "nbformat": 4,
  "nbformat_minor": 0,
  "metadata": {
    "colab": {
      "provenance": []
    },
    "kernelspec": {
      "name": "python3",
      "display_name": "Python 3"
    },
    "language_info": {
      "name": "python"
    }
  },
  "cells": [
    {
      "cell_type": "markdown",
      "source": [
        "# Bussiness Understanding"
      ],
      "metadata": {
        "id": "oX-7vUvi1g8I"
      }
    },
    {
      "cell_type": "markdown",
      "source": [
        "Business Understanding adalah tahap awal dalam proses data mining yang berfokus pada pemahaman tujuan bisnis atau permasalahan yang ingin diselesaikan. Intinya, sebelum mengolah data, kita perlu memahami apa yang sebenarnya ingin dicapai organisasi atau perusahaan.\n",
        "\n",
        "\n",
        "\n",
        "*   Tahap ini membantu menentukan arah analisis sehingga data yang dikumpulkan benar-benar relevan.\n",
        "*   Keputusan bisnis yang jelas akan memengaruhi teknik analisis, pemodelan, dan interpretasi hasil.\n",
        "*   Tanpa pemahaman bisnis yang baik, analisis data berisiko salah sasaran dan hasil akhirnya sulit dimanfaatkan.\n",
        "\n",
        "\n",
        "\n",
        "\n"
      ],
      "metadata": {
        "id": "bl1QPDnh1pnT"
      }
    }
  ]
}
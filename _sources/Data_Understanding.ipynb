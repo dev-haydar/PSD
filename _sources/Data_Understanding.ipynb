{
  "nbformat": 4,
  "nbformat_minor": 0,
  "metadata": {
    "colab": {
      "provenance": []
    },
    "kernelspec": {
      "name": "python3",
      "display_name": "Python 3"
    },
    "language_info": {
      "name": "python"
    }
  },
  "cells": [
    {
      "cell_type": "markdown",
      "source": [
        "# Data Understanding"
      ],
      "metadata": {
        "id": "BwxT0Lj_2KNl"
      }
    },
    {
      "cell_type": "markdown",
      "source": [
        "Data Understanding adalah tahap kedua setelah tujuan bisnis ditentukan. Fokusnya adalah mengumpulkan, mengeksplorasi, dan mengevaluasi data agar sesuai dengan kebutuhan analisis.\n",
        "\n",
        "\n",
        "*   Kegiatan utamanya mencakup mengenal karakteristik data, mengecek kualitas, serta memahami potensi informasi yang bisa digali.\n",
        "*   Dengan memahami data sejak awal, kita bisa menghindari kesalahan interpretasi, memilih teknik analisis yang tepat, dan memastikan hasil akhir dapat dipercaya.\n",
        "*  Data bisa berupa observasi (misalnya transaksi, pelanggan, negara) dengan variabel tertentu (harga, usia, tanggal, produk, dsb.). Variabel ini bisa bersifat kuantitatif, kualitatif, atau biner.\n",
        "*   Tahap ini juga mencakup pemeriksaan awal seperti jumlah data, tipe variabel, adanya nilai anomali (contoh: harga negatif), hingga sumber data yang digunakan.\n",
        "\n",
        "\n",
        "\n"
      ],
      "metadata": {
        "id": "C3D8Awdi2Obk"
      }
    },
    {
      "cell_type": "markdown",
      "source": [],
      "metadata": {
        "id": "D0UurspL2e3c"
      }
    },
    {
      "cell_type": "code",
      "execution_count": null,
      "metadata": {
        "id": "jeV8auSf2GpU"
      },
      "outputs": [],
      "source": []
    }
  ]
}